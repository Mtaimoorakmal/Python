{
  "nbformat": 4,
  "nbformat_minor": 0,
  "metadata": {
    "colab": {
      "provenance": [],
      "authorship_tag": "ABX9TyPShrKSSc7zhxBs8DbwaRQs",
      "include_colab_link": true
    },
    "kernelspec": {
      "name": "python3",
      "display_name": "Python 3"
    },
    "language_info": {
      "name": "python"
    }
  },
  "cells": [
    {
      "cell_type": "markdown",
      "metadata": {
        "id": "view-in-github",
        "colab_type": "text"
      },
      "source": [
        "<a href=\"https://colab.research.google.com/github/Mtaimoorakmal/Python/blob/main/numpyTut.ipynb\" target=\"_parent\"><img src=\"https://colab.research.google.com/assets/colab-badge.svg\" alt=\"Open In Colab\"/></a>"
      ]
    },
    {
      "cell_type": "markdown",
      "source": [
        "#Numpy Array"
      ],
      "metadata": {
        "id": "N2ZlQ7v7gHBz"
      }
    },
    {
      "cell_type": "code",
      "execution_count": 28,
      "metadata": {
        "id": "5NQApRx0fsp4",
        "colab": {
          "base_uri": "https://localhost:8080/"
        },
        "outputId": "e7d625ed-7224-46af-a80f-d10ee53580d7"
      },
      "outputs": [
        {
          "output_type": "stream",
          "name": "stdout",
          "text": [
            "(5,)\n",
            "5\n",
            "int64\n"
          ]
        }
      ],
      "source": [
        "import numpy as np\n",
        "\n",
        "arr = np.array([1,2,3,4,5])\n",
        "print(arr.shape) # show the dimensions of teh array\n",
        "print(arr.size)\n",
        "print(arr.dtype)"
      ]
    },
    {
      "cell_type": "code",
      "source": [
        "print(np.__version__)"
      ],
      "metadata": {
        "id": "OV6OacAEnXF0",
        "outputId": "e5b2e114-e243-4815-bd08-db472d8f4b8e",
        "colab": {
          "base_uri": "https://localhost:8080/"
        }
      },
      "execution_count": 55,
      "outputs": [
        {
          "output_type": "stream",
          "name": "stdout",
          "text": [
            "1.25.2\n"
          ]
        }
      ]
    },
    {
      "cell_type": "markdown",
      "source": [
        "list and Tuple both can be passsed to have a numpy array"
      ],
      "metadata": {
        "id": "ejjH3ljunqr9"
      }
    },
    {
      "cell_type": "code",
      "source": [
        "arr1 = np.array((1, 2, 3, 4, 5)) # tuple passed\n",
        "print(arr1)\n",
        "print(type(arr1))"
      ],
      "metadata": {
        "id": "mm6UzeExnjDU",
        "outputId": "61415a93-d449-4d67-a882-339a18d33a6b",
        "colab": {
          "base_uri": "https://localhost:8080/"
        }
      },
      "execution_count": 59,
      "outputs": [
        {
          "output_type": "stream",
          "name": "stdout",
          "text": [
            "[1 2 3 4 5]\n",
            "<class 'numpy.ndarray'>\n"
          ]
        }
      ]
    },
    {
      "cell_type": "markdown",
      "source": [
        "### Multidimentinal Array"
      ],
      "metadata": {
        "id": "5D6JTiBijdau"
      }
    },
    {
      "cell_type": "code",
      "source": [
        "# O-D array\n",
        "arr_0 = np.array(32)\n",
        "print(arr_0) #output 32\n",
        "print(arr_0.ndim) # output 0\n",
        "print(arr_0.shape) #output ()\n",
        "# 1-D array\n",
        "print(\"1-D array: has 0-D array as elements\")\n",
        "arr_1 = np.array([1,2,3])\n",
        "print(arr_1) #output [1,2,3]\n",
        "print(arr_1.ndim) # output 1\n",
        "print(arr_1.shape) #output (3,)\n",
        "\n",
        "# 2-D array\n",
        "print(\"2-D array: has 1-D array as elements\")\n",
        "arr_2 = np.array([[1,2,3] , [7,8,9]])\n",
        "print(arr_2) #output [[1 2 3]\n",
        "#                     [7 8 9]]\n",
        "print(arr_2.ndim) # output 2\n",
        "print(arr_2.shape) #output (2,3)\n",
        "\n",
        "# 3-D array\n",
        "print(\"3-D array: has 2-D array as elements\")\n",
        "arr_3 = np.array([[[1,2,3] , [7,8,9]],[[1,2,3,] ,[7,8,9]]])\n",
        "print(arr_3)\n",
        "print(arr_3.ndim) # output 3\n",
        "print(arr_3.shape) # output (2,2,3)\n"
      ],
      "metadata": {
        "id": "dSASaNrNoK78",
        "outputId": "f8696967-6266-4880-d973-e65aac7d00e8",
        "colab": {
          "base_uri": "https://localhost:8080/"
        }
      },
      "execution_count": 79,
      "outputs": [
        {
          "output_type": "stream",
          "name": "stdout",
          "text": [
            "32\n",
            "()\n",
            "0\n",
            "1-D array: has 0-D array as elements\n",
            "[1 2 3]\n",
            "(3,)\n",
            "1\n",
            "2-D array: has 1-D array as elements\n",
            "[[1 2 3]\n",
            " [7 8 9]]\n",
            "(2, 3)\n",
            "2\n",
            "3-D array: has 2-D array as elements\n",
            "[[[1 2 3]\n",
            "  [7 8 9]]\n",
            "\n",
            " [[1 2 3]\n",
            "  [7 8 9]]]\n",
            "(2, 2, 3)\n",
            "3\n"
          ]
        }
      ]
    },
    {
      "cell_type": "code",
      "source": [
        "list_a = [[1,2,3,2] , [2,4,5,6],[2,0,9,8],[1,0,1,0]]\n",
        "arr2 = np.array(list_a)\n",
        "print(arr2.shape)\n",
        "print(arr2.size)"
      ],
      "metadata": {
        "colab": {
          "base_uri": "https://localhost:8080/"
        },
        "id": "BS07bhf-gTOZ",
        "outputId": "eea74790-f1f7-4d79-feb8-df08fcc694eb"
      },
      "execution_count": 46,
      "outputs": [
        {
          "output_type": "stream",
          "name": "stdout",
          "text": [
            "(4, 4)\n",
            "16\n"
          ]
        }
      ]
    },
    {
      "cell_type": "markdown",
      "source": [
        "# functions\n",
        "no.arange(strat , stop , jump)"
      ],
      "metadata": {
        "id": "hgAcX5tAjh14"
      }
    },
    {
      "cell_type": "code",
      "source": [
        "arr = np.arange(100,10,-10)\n",
        "print(arr)\n",
        "print(type(arr))"
      ],
      "metadata": {
        "colab": {
          "base_uri": "https://localhost:8080/"
        },
        "id": "0IahB6sGhdEv",
        "outputId": "2238e385-79f3-4acd-b4e8-5ab000214b47"
      },
      "execution_count": 54,
      "outputs": [
        {
          "output_type": "stream",
          "name": "stdout",
          "text": [
            "[100  90  80  70  60  50  40  30  20]\n",
            "<class 'numpy.ndarray'>\n"
          ]
        }
      ]
    },
    {
      "cell_type": "code",
      "source": [],
      "metadata": {
        "id": "DWWv-dEHhhM1"
      },
      "execution_count": null,
      "outputs": []
    }
  ]
}