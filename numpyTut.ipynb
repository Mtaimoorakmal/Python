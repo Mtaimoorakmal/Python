{
  "nbformat": 4,
  "nbformat_minor": 0,
  "metadata": {
    "colab": {
      "provenance": [],
      "authorship_tag": "ABX9TyOf6AVLXQ1ptJ5DmRd5SQ4F",
      "include_colab_link": true
    },
    "kernelspec": {
      "name": "python3",
      "display_name": "Python 3"
    },
    "language_info": {
      "name": "python"
    }
  },
  "cells": [
    {
      "cell_type": "markdown",
      "metadata": {
        "id": "view-in-github",
        "colab_type": "text"
      },
      "source": [
        "<a href=\"https://colab.research.google.com/github/Mtaimoorakmal/Python/blob/main/numpyTut.ipynb\" target=\"_parent\"><img src=\"https://colab.research.google.com/assets/colab-badge.svg\" alt=\"Open In Colab\"/></a>"
      ]
    },
    {
      "cell_type": "markdown",
      "source": [
        "#Numpy Array"
      ],
      "metadata": {
        "id": "N2ZlQ7v7gHBz"
      }
    },
    {
      "cell_type": "code",
      "execution_count": 28,
      "metadata": {
        "id": "5NQApRx0fsp4",
        "outputId": "e7d625ed-7224-46af-a80f-d10ee53580d7",
        "colab": {
          "base_uri": "https://localhost:8080/"
        }
      },
      "outputs": [
        {
          "output_type": "stream",
          "name": "stdout",
          "text": [
            "(5,)\n",
            "5\n",
            "int64\n"
          ]
        }
      ],
      "source": [
        "import numpy as np\n",
        "\n",
        "arr = np.array([1,2,3,4,5])\n",
        "print(arr.shape) # show the dimensions of teh array\n",
        "print(arr.size)\n",
        "print(arr.dtype)"
      ]
    },
    {
      "cell_type": "code",
      "source": [
        "list_a = [[1,2,3,2] , [2,4,5,6],[2,0,9,8],[1,0,1,0]]\n",
        "arr2 = np.array(list_a)\n",
        "print(arr2.shape)\n",
        "print(arr2.size)"
      ],
      "metadata": {
        "id": "BS07bhf-gTOZ",
        "outputId": "eea74790-f1f7-4d79-feb8-df08fcc694eb",
        "colab": {
          "base_uri": "https://localhost:8080/"
        }
      },
      "execution_count": 46,
      "outputs": [
        {
          "output_type": "stream",
          "name": "stdout",
          "text": [
            "(4, 4)\n",
            "16\n"
          ]
        }
      ]
    },
    {
      "cell_type": "code",
      "source": [],
      "metadata": {
        "id": "0IahB6sGhdEv",
        "outputId": "f73b38d3-37f7-4434-b59c-504d438957b5",
        "colab": {
          "base_uri": "https://localhost:8080/"
        }
      },
      "execution_count": 44,
      "outputs": [
        {
          "output_type": "stream",
          "name": "stdout",
          "text": [
            "(3, 4)\n",
            "12\n"
          ]
        }
      ]
    },
    {
      "cell_type": "code",
      "source": [],
      "metadata": {
        "id": "DWWv-dEHhhM1"
      },
      "execution_count": null,
      "outputs": []
    }
  ]
}