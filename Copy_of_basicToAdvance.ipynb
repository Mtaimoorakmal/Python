{
  "cells": [
    {
      "cell_type": "markdown",
      "metadata": {
        "id": "DktUiJyrBOTB"
      },
      "source": [
        "#  Program 1"
      ]
    },
    {
      "cell_type": "code",
      "execution_count": null,
      "metadata": {
        "id": "cM2pixuRBOTN",
        "outputId": "61dd567e-9021-49e9-ec7e-6f91b1731c52"
      },
      "outputs": [
        {
          "name": "stdout",
          "output_type": "stream",
          "text": [
            "Hello World\n"
          ]
        }
      ],
      "source": [
        "print(\"Hello World\")"
      ]
    },
    {
      "cell_type": "markdown",
      "metadata": {
        "id": "kvRNWNzdBOTZ"
      },
      "source": [
        "# Program 2\n",
        "Wrtie a Python Program to do arithmatic Operations (+.-.*,/)"
      ]
    },
    {
      "cell_type": "code",
      "execution_count": null,
      "metadata": {
        "id": "54p8phhXBOTb",
        "outputId": "a6a0eeb8-d64c-4e27-82d7-aeae52937676"
      },
      "outputs": [
        {
          "name": "stdout",
          "output_type": "stream",
          "text": [
            "Sum : 7 + 2 = 9\n",
            "Subtraction : 7 - 2 = 5\n",
            "Multiplication : 7 * 2 = 14\n",
            "Divison : 7 / 2 = 3.5\n"
          ]
        }
      ],
      "source": [
        "# Take input of numbers to do Arithmatic Operations\n",
        "\n",
        "# num1 = float(input(\"Enter 1st Number: \"))\n",
        "# num2 = float(input(\"Enter 2nd Number: \"))\n",
        "\n",
        "\n",
        "num1 =7\n",
        "num2 =2\n",
        "\n",
        "#addition\n",
        "sum = num1 + num2\n",
        "\n",
        "#Subtraction\n",
        "sub = num1 -num2\n",
        "\n",
        "#multiplycation\n",
        "\n",
        "mul = num1*num2\n",
        "\n",
        "#division\n",
        "\n",
        "div = num1 /num2\n",
        "\n",
        "#print all arithmatic operations results\n",
        "\n",
        "print(f\"Sum : {num1} + {num2} = {sum}\")\n",
        "print(f\"Subtraction : {num1} - {num2} = {sub}\")\n",
        "print(f\"Multiplication : {num1} * {num2} = {mul}\")\n",
        "print(f\"Divison : {num1} / {num2} = {div}\")\n",
        "\n",
        "\n"
      ]
    },
    {
      "cell_type": "markdown",
      "metadata": {
        "id": "Pr8IWLC1BOTd"
      },
      "source": [
        "# Program 3\n",
        "write a Python Program to find the area of a Triangle"
      ]
    },
    {
      "cell_type": "code",
      "execution_count": null,
      "metadata": {
        "id": "hlMaRWmxBOTg",
        "outputId": "841df828-2e29-4f95-a439-c56930f402ac",
        "colab": {
          "base_uri": "https://localhost:8080/"
        }
      },
      "outputs": [
        {
          "output_type": "stream",
          "name": "stdout",
          "text": [
            "Enter the base of the Triangle: 4\n",
            "Enter the height of the Triangle: 5\n",
            "Area of the Triangle is : 10.0\n"
          ]
        }
      ],
      "source": [
        "# input Base and Height from the user\n",
        "base = float(input(\"Enter the base of the Triangle: \")) # 3 entred\n",
        "height = float(input(\"Enter the height of the Triangle: \")) # 4 entred\n",
        "\n",
        "\n",
        "#Calculate the area\n",
        "Area = 1/ 2 * base * height\n",
        "#Display the Area\n",
        "print(f\"Area of the Triangle is : {Area}\")"
      ]
    },
    {
      "cell_type": "code",
      "execution_count": null,
      "metadata": {
        "id": "GWRLFcvFBOTh"
      },
      "outputs": [],
      "source": []
    }
  ],
  "metadata": {
    "kernelspec": {
      "display_name": "Python 3",
      "language": "python",
      "name": "python3"
    },
    "language_info": {
      "codemirror_mode": {
        "name": "ipython",
        "version": 3
      },
      "file_extension": ".py",
      "mimetype": "text/x-python",
      "name": "python",
      "nbconvert_exporter": "python",
      "pygments_lexer": "ipython3",
      "version": "3.11.1"
    },
    "colab": {
      "provenance": []
    }
  },
  "nbformat": 4,
  "nbformat_minor": 0
}