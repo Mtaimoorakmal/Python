{
  "nbformat": 4,
  "nbformat_minor": 0,
  "metadata": {
    "colab": {
      "provenance": [],
      "authorship_tag": "ABX9TyOqS4CbGRpQDrEA9iHyrDsM",
      "include_colab_link": true
    },
    "kernelspec": {
      "name": "python3",
      "display_name": "Python 3"
    },
    "language_info": {
      "name": "python"
    }
  },
  "cells": [
    {
      "cell_type": "markdown",
      "metadata": {
        "id": "view-in-github",
        "colab_type": "text"
      },
      "source": [
        "<a href=\"https://colab.research.google.com/github/Mtaimoorakmal/Python/blob/main/Missing_Number.ipynb\" target=\"_parent\"><img src=\"https://colab.research.google.com/assets/colab-badge.svg\" alt=\"Open In Colab\"/></a>"
      ]
    },
    {
      "cell_type": "code",
      "execution_count": 6,
      "metadata": {
        "colab": {
          "base_uri": "https://localhost:8080/"
        },
        "id": "XIQ8C-tUii3X",
        "outputId": "5cd88b68-b078-42ff-dbac-019f4fa30243"
      },
      "outputs": [
        {
          "output_type": "stream",
          "name": "stdout",
          "text": [
            "5\n",
            "15\n",
            "12\n",
            "3\n"
          ]
        }
      ],
      "source": [
        "def missing_num(nums):\n",
        "  n = len(nums)\n",
        "  print(n)\n",
        "  expected_sum = n * (n + 1) // 2\n",
        "  print(expected_sum)\n",
        "  actual_sum = sum(nums)\n",
        "  print(actual_sum)\n",
        "  missing_num = expected_sum - actual_sum\n",
        "  return missing_num\n",
        "\n",
        "arr = [0,1,2,4,5]\n",
        "print(missing_num(arr))"
      ]
    },
    {
      "cell_type": "code",
      "source": [],
      "metadata": {
        "id": "ptTvI73Mi6Gp"
      },
      "execution_count": null,
      "outputs": []
    }
  ]
}