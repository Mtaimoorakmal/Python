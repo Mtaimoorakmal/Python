{
 "cells": [
  {
   "cell_type": "code",
   "execution_count": 3,
   "id": "8ff819e4",
   "metadata": {},
   "outputs": [],
   "source": [
    "# pip install selenium\n",
    "# pip install webdriver-manager\n",
    "# pip install pyotp"
   ]
  },
  {
   "cell_type": "code",
   "execution_count": 2,
   "id": "7138a3f7",
   "metadata": {},
   "outputs": [],
   "source": [
    "# pip show selenium  webdriver-manager pyotp"
   ]
  },
  {
   "cell_type": "code",
   "execution_count": 2,
   "id": "6c804413",
   "metadata": {},
   "outputs": [],
   "source": [
    "from selenium import webdriver\n",
    "from selenium.webdriver.chrome.service import Service\n",
    "from selenium.webdriver.chrome.options import Options\n",
    "from webdriver_manager.chrome import ChromeDriverManager\n",
    "import time \n",
    "from selenium.webdriver.common.keys import Keys\n",
    "import pyotp"
   ]
  },
  {
   "cell_type": "code",
   "execution_count": 3,
   "id": "d1473dc2",
   "metadata": {},
   "outputs": [],
   "source": [
    "options = Options()\n",
    "options.add_experimental_option('detach' , True)"
   ]
  },
  {
   "cell_type": "code",
   "execution_count": 4,
   "id": "2af76427",
   "metadata": {},
   "outputs": [],
   "source": [
    "driver = webdriver.Chrome(service=Service(ChromeDriverManager().install()), options=options)\n",
    "time.sleep(1)\n",
    "driver.get(\"https://www.linkedin.com/login\")\n",
    "\n",
    "driver.maximize_window()"
   ]
  },
  {
   "cell_type": "code",
   "execution_count": 7,
   "id": "8408f1bb",
   "metadata": {},
   "outputs": [],
   "source": [
    "from selenium import webdriver\n",
    "from selenium.webdriver.chrome.service import Service\n",
    "from selenium.webdriver.chrome.options import Options\n",
    "from webdriver_manager.chrome import ChromeDriverManager\n",
    "from selenium.webdriver.common.by import By\n",
    "from selenium.webdriver.common.keys import Keys\n",
    "import time\n",
    "\n",
    "# Setup Chrome options\n",
    "options = Options()\n",
    "options.add_experimental_option('detach', True)\n",
    "\n",
    "# Initialize the Chrome driver\n",
    "driver = webdriver.Chrome(service=Service(ChromeDriverManager().install()), options=options)\n",
    "driver.maximize_window()\n",
    "\n",
    "# Open LinkedIn login page\n",
    "driver.get(\"https://www.linkedin.com/login\")\n",
    "\n",
    "# Allow the page to load\n",
    "time.sleep(1)\n",
    "\n",
    "# Provide your credentials\n",
    "username = '94taimoor@gmail.com'\n",
    "password = 'Taim@1994LI'\n",
    "\n",
    "# Locate the username/email field and send the email/username\n",
    "username_field = driver.find_element(By.ID, \"username\")\n",
    "username_field.send_keys(username)\n",
    "\n",
    "# Locate the password field and send the password\n",
    "password_field = driver.find_element(By.ID, \"password\")\n",
    "password_field.send_keys(password)\n",
    "\n",
    "# Locate the login button and click it\n",
    "login_button = driver.find_element(By.XPATH, \"//button[@type='submit']\")\n",
    "login_button.click()\n",
    "\n",
    "# Optional: Add a delay to ensure the login process completes\n",
    "time.sleep(5)\n",
    "\n",
    "# Your automation script can continue from here\n",
    "\n",
    "# Close the driver\n",
    "# driver.quit()\n"
   ]
  },
  {
   "cell_type": "code",
   "execution_count": null,
   "id": "2a8be07c",
   "metadata": {},
   "outputs": [],
   "source": []
  }
 ],
 "metadata": {
  "kernelspec": {
   "display_name": "Python 3 (ipykernel)",
   "language": "python",
   "name": "python3"
  },
  "language_info": {
   "codemirror_mode": {
    "name": "ipython",
    "version": 3
   },
   "file_extension": ".py",
   "mimetype": "text/x-python",
   "name": "python",
   "nbconvert_exporter": "python",
   "pygments_lexer": "ipython3",
   "version": "3.11.5"
  }
 },
 "nbformat": 4,
 "nbformat_minor": 5
}
