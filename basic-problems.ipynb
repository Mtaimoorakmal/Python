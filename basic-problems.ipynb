{
 "cells": [
  {
   "cell_type": "markdown",
   "id": "7a4ea093",
   "metadata": {
    "papermill": {
     "duration": 0.002977,
     "end_time": "2024-11-26T14:38:50.764194",
     "exception": false,
     "start_time": "2024-11-26T14:38:50.761217",
     "status": "completed"
    },
    "tags": []
   },
   "source": [
    "Q1 .Make a function to return the number is even or odd without using any conditional statement"
   ]
  },
  {
   "cell_type": "code",
   "execution_count": 1,
   "id": "19642e61",
   "metadata": {
    "execution": {
     "iopub.execute_input": "2024-11-26T14:38:50.770142Z",
     "iopub.status.busy": "2024-11-26T14:38:50.769743Z",
     "iopub.status.idle": "2024-11-26T14:38:50.781096Z",
     "shell.execute_reply": "2024-11-26T14:38:50.779945Z"
    },
    "papermill": {
     "duration": 0.016826,
     "end_time": "2024-11-26T14:38:50.783366",
     "exception": false,
     "start_time": "2024-11-26T14:38:50.766540",
     "status": "completed"
    },
    "tags": []
   },
   "outputs": [
    {
     "name": "stdout",
     "output_type": "stream",
     "text": [
      "8 is Even\n"
     ]
    }
   ],
   "source": [
    "def even_odd(num):\n",
    "    test = {0 : 'Even' , 1 :\"odd\"}\n",
    "    check = num%2\n",
    "    result  = test[check]\n",
    "    return f'{num} is {result}'\n",
    "    \n",
    "# example \n",
    "number = 8\n",
    "x = even_odd(number)\n",
    "print(x)"
   ]
  },
  {
   "cell_type": "markdown",
   "id": "8376d568",
   "metadata": {
    "papermill": {
     "duration": 0.001682,
     "end_time": "2024-11-26T14:38:50.787121",
     "exception": false,
     "start_time": "2024-11-26T14:38:50.785439",
     "status": "completed"
    },
    "tags": []
   },
   "source": [
    "Q2.Return list of peak Elements from the given list [1,4,3,0,5,2], A peak element is an element that is strictly greater than its neighbors."
   ]
  },
  {
   "cell_type": "code",
   "execution_count": 2,
   "id": "463abb3a",
   "metadata": {
    "execution": {
     "iopub.execute_input": "2024-11-26T14:38:50.792469Z",
     "iopub.status.busy": "2024-11-26T14:38:50.792060Z",
     "iopub.status.idle": "2024-11-26T14:38:50.799150Z",
     "shell.execute_reply": "2024-11-26T14:38:50.797814Z"
    },
    "papermill": {
     "duration": 0.012358,
     "end_time": "2024-11-26T14:38:50.801379",
     "exception": false,
     "start_time": "2024-11-26T14:38:50.789021",
     "status": "completed"
    },
    "tags": []
   },
   "outputs": [
    {
     "name": "stdout",
     "output_type": "stream",
     "text": [
      "4\n",
      "5\n"
     ]
    }
   ],
   "source": [
    "def peak_num(list):\n",
    "    for i in range(len(list)):\n",
    "        if i>0 and i < len(list)-1: # to avoid index exceed\n",
    "            if list[i] > list[i-1] and list[i] > list[i+1]:\n",
    "                print(list[i])\n",
    "\n",
    "#example \n",
    "a_list =  [1,4,3,0,5,2]\n",
    "\n",
    "peak_num(a_list)"
   ]
  },
  {
   "cell_type": "code",
   "execution_count": null,
   "id": "710da23c",
   "metadata": {
    "papermill": {
     "duration": 0.001804,
     "end_time": "2024-11-26T14:38:50.805326",
     "exception": false,
     "start_time": "2024-11-26T14:38:50.803522",
     "status": "completed"
    },
    "tags": []
   },
   "outputs": [],
   "source": []
  }
 ],
 "metadata": {
  "kaggle": {
   "accelerator": "none",
   "dataSources": [],
   "dockerImageVersionId": 30786,
   "isGpuEnabled": false,
   "isInternetEnabled": true,
   "language": "python",
   "sourceType": "notebook"
  },
  "kernelspec": {
   "display_name": "Python 3",
   "language": "python",
   "name": "python3"
  },
  "language_info": {
   "codemirror_mode": {
    "name": "ipython",
    "version": 3
   },
   "file_extension": ".py",
   "mimetype": "text/x-python",
   "name": "python",
   "nbconvert_exporter": "python",
   "pygments_lexer": "ipython3",
   "version": "3.10.14"
  },
  "papermill": {
   "default_parameters": {},
   "duration": 3.110247,
   "end_time": "2024-11-26T14:38:51.227587",
   "environment_variables": {},
   "exception": null,
   "input_path": "__notebook__.ipynb",
   "output_path": "__notebook__.ipynb",
   "parameters": {},
   "start_time": "2024-11-26T14:38:48.117340",
   "version": "2.6.0"
  }
 },
 "nbformat": 4,
 "nbformat_minor": 5
}
