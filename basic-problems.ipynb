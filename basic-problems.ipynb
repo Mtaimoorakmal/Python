{
 "cells": [
  {
   "cell_type": "markdown",
   "id": "a93414f1",
   "metadata": {
    "papermill": {
     "duration": 0.002589,
     "end_time": "2024-11-26T14:42:17.953688",
     "exception": false,
     "start_time": "2024-11-26T14:42:17.951099",
     "status": "completed"
    },
    "tags": []
   },
   "source": [
    "Q1 .Make a function to return the number is even or odd without using any conditional statement"
   ]
  },
  {
   "cell_type": "code",
   "execution_count": 1,
   "id": "cd480e9e",
   "metadata": {
    "execution": {
     "iopub.execute_input": "2024-11-26T14:42:17.959823Z",
     "iopub.status.busy": "2024-11-26T14:42:17.959289Z",
     "iopub.status.idle": "2024-11-26T14:42:17.972973Z",
     "shell.execute_reply": "2024-11-26T14:42:17.971823Z"
    },
    "papermill": {
     "duration": 0.019628,
     "end_time": "2024-11-26T14:42:17.975460",
     "exception": false,
     "start_time": "2024-11-26T14:42:17.955832",
     "status": "completed"
    },
    "tags": []
   },
   "outputs": [
    {
     "name": "stdout",
     "output_type": "stream",
     "text": [
      "8 is Even\n"
     ]
    }
   ],
   "source": [
    "def even_odd(num):\n",
    "    test = {0 : 'Even' , 1 :\"odd\"}\n",
    "    check = num%2\n",
    "    result  = test[check]\n",
    "    return f'{num} is {result}'\n",
    "    \n",
    "# example \n",
    "number = 8\n",
    "x = even_odd(number)\n",
    "print(x)"
   ]
  },
  {
   "cell_type": "markdown",
   "id": "bdc2b517",
   "metadata": {
    "papermill": {
     "duration": 0.001767,
     "end_time": "2024-11-26T14:42:17.979328",
     "exception": false,
     "start_time": "2024-11-26T14:42:17.977561",
     "status": "completed"
    },
    "tags": []
   },
   "source": [
    "Q2.Return list of peak Elements from the given list [1,4,3,0,5,2], A peak element is an element that is strictly greater than its neighbors.<br>\n",
    "\n",
    "\n",
    "asked in Dot labs interview "
   ]
  },
  {
   "cell_type": "code",
   "execution_count": 2,
   "id": "ddab8296",
   "metadata": {
    "execution": {
     "iopub.execute_input": "2024-11-26T14:42:17.987160Z",
     "iopub.status.busy": "2024-11-26T14:42:17.986637Z",
     "iopub.status.idle": "2024-11-26T14:42:17.996616Z",
     "shell.execute_reply": "2024-11-26T14:42:17.995304Z"
    },
    "papermill": {
     "duration": 0.017692,
     "end_time": "2024-11-26T14:42:17.999056",
     "exception": false,
     "start_time": "2024-11-26T14:42:17.981364",
     "status": "completed"
    },
    "tags": []
   },
   "outputs": [
    {
     "name": "stdout",
     "output_type": "stream",
     "text": [
      "4\n",
      "5\n"
     ]
    }
   ],
   "source": [
    "def peak_num(list):\n",
    "    for i in range(len(list)):\n",
    "        if i>0 and i < len(list)-1: # to avoid index exceed\n",
    "            if list[i] > list[i-1] and list[i] > list[i+1]:\n",
    "                print(list[i])\n",
    "'''OR\n",
    "def peak_num1(list):\n",
    "    for i in range(len(list)):\n",
    "        if i>0 and i < len(list)-1and list[i] > list[i-1] and list[i] > list[i+1]: # to avoid index exceed\n",
    "            print(list[i])\n",
    "'''\n",
    "\n",
    "#example \n",
    "a_list =  [1,4,3,0,5,2]\n",
    "\n",
    "peak_num(a_list)"
   ]
  },
  {
   "cell_type": "code",
   "execution_count": null,
   "id": "ff232204",
   "metadata": {
    "papermill": {
     "duration": 0.001924,
     "end_time": "2024-11-26T14:42:18.003420",
     "exception": false,
     "start_time": "2024-11-26T14:42:18.001496",
     "status": "completed"
    },
    "tags": []
   },
   "outputs": [],
   "source": []
  }
 ],
 "metadata": {
  "kaggle": {
   "accelerator": "none",
   "dataSources": [],
   "dockerImageVersionId": 30786,
   "isGpuEnabled": false,
   "isInternetEnabled": true,
   "language": "python",
   "sourceType": "notebook"
  },
  "kernelspec": {
   "display_name": "Python 3",
   "language": "python",
   "name": "python3"
  },
  "language_info": {
   "codemirror_mode": {
    "name": "ipython",
    "version": 3
   },
   "file_extension": ".py",
   "mimetype": "text/x-python",
   "name": "python",
   "nbconvert_exporter": "python",
   "pygments_lexer": "ipython3",
   "version": "3.10.14"
  },
  "papermill": {
   "default_parameters": {},
   "duration": 3.225609,
   "end_time": "2024-11-26T14:42:18.427790",
   "environment_variables": {},
   "exception": null,
   "input_path": "__notebook__.ipynb",
   "output_path": "__notebook__.ipynb",
   "parameters": {},
   "start_time": "2024-11-26T14:42:15.202181",
   "version": "2.6.0"
  }
 },
 "nbformat": 4,
 "nbformat_minor": 5
}
