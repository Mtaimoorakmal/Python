{
 "cells": [
  {
   "cell_type": "markdown",
   "id": "58cb8f6c",
   "metadata": {
    "papermill": {
     "duration": 0.002261,
     "end_time": "2024-11-26T14:33:06.245662",
     "exception": false,
     "start_time": "2024-11-26T14:33:06.243401",
     "status": "completed"
    },
    "tags": []
   },
   "source": [
    "Q1 .Make a function to return the number is even or odd without using any conditional statement"
   ]
  },
  {
   "cell_type": "code",
   "execution_count": 1,
   "id": "2dae2b14",
   "metadata": {
    "execution": {
     "iopub.execute_input": "2024-11-26T14:33:06.250949Z",
     "iopub.status.busy": "2024-11-26T14:33:06.250536Z",
     "iopub.status.idle": "2024-11-26T14:33:06.264034Z",
     "shell.execute_reply": "2024-11-26T14:33:06.262706Z"
    },
    "papermill": {
     "duration": 0.018958,
     "end_time": "2024-11-26T14:33:06.266438",
     "exception": false,
     "start_time": "2024-11-26T14:33:06.247480",
     "status": "completed"
    },
    "tags": []
   },
   "outputs": [
    {
     "name": "stdout",
     "output_type": "stream",
     "text": [
      "8 is Even\n"
     ]
    }
   ],
   "source": [
    "def even_odd(num):\n",
    "    test = {0 : 'Even' , 1 :\"odd\"}\n",
    "    check = num%2\n",
    "    result  = test[check]\n",
    "    return f'{num} is {result}'\n",
    "    \n",
    "# example \n",
    "number = 8\n",
    "x = even_odd(number)\n",
    "print(x)"
   ]
  },
  {
   "cell_type": "code",
   "execution_count": null,
   "id": "51bb7177",
   "metadata": {
    "papermill": {
     "duration": 0.001456,
     "end_time": "2024-11-26T14:33:06.269677",
     "exception": false,
     "start_time": "2024-11-26T14:33:06.268221",
     "status": "completed"
    },
    "tags": []
   },
   "outputs": [],
   "source": []
  }
 ],
 "metadata": {
  "kaggle": {
   "accelerator": "none",
   "dataSources": [],
   "dockerImageVersionId": 30786,
   "isGpuEnabled": false,
   "isInternetEnabled": true,
   "language": "python",
   "sourceType": "notebook"
  },
  "kernelspec": {
   "display_name": "Python 3",
   "language": "python",
   "name": "python3"
  },
  "language_info": {
   "codemirror_mode": {
    "name": "ipython",
    "version": 3
   },
   "file_extension": ".py",
   "mimetype": "text/x-python",
   "name": "python",
   "nbconvert_exporter": "python",
   "pygments_lexer": "ipython3",
   "version": "3.10.14"
  },
  "papermill": {
   "default_parameters": {},
   "duration": 3.647069,
   "end_time": "2024-11-26T14:33:06.692261",
   "environment_variables": {},
   "exception": null,
   "input_path": "__notebook__.ipynb",
   "output_path": "__notebook__.ipynb",
   "parameters": {},
   "start_time": "2024-11-26T14:33:03.045192",
   "version": "2.6.0"
  }
 },
 "nbformat": 4,
 "nbformat_minor": 5
}
