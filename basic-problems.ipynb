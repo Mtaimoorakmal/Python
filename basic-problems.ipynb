{
 "cells": [
  {
   "cell_type": "markdown",
   "id": "a53f94ba",
   "metadata": {
    "papermill": {
     "duration": 0.00231,
     "end_time": "2024-11-26T14:41:15.635166",
     "exception": false,
     "start_time": "2024-11-26T14:41:15.632856",
     "status": "completed"
    },
    "tags": []
   },
   "source": [
    "Q1 .Make a function to return the number is even or odd without using any conditional statement"
   ]
  },
  {
   "cell_type": "code",
   "execution_count": 1,
   "id": "40af1c85",
   "metadata": {
    "execution": {
     "iopub.execute_input": "2024-11-26T14:41:15.640979Z",
     "iopub.status.busy": "2024-11-26T14:41:15.640470Z",
     "iopub.status.idle": "2024-11-26T14:41:15.653036Z",
     "shell.execute_reply": "2024-11-26T14:41:15.651902Z"
    },
    "papermill": {
     "duration": 0.018145,
     "end_time": "2024-11-26T14:41:15.655361",
     "exception": false,
     "start_time": "2024-11-26T14:41:15.637216",
     "status": "completed"
    },
    "tags": []
   },
   "outputs": [
    {
     "name": "stdout",
     "output_type": "stream",
     "text": [
      "8 is Even\n"
     ]
    }
   ],
   "source": [
    "def even_odd(num):\n",
    "    test = {0 : 'Even' , 1 :\"odd\"}\n",
    "    check = num%2\n",
    "    result  = test[check]\n",
    "    return f'{num} is {result}'\n",
    "    \n",
    "# example \n",
    "number = 8\n",
    "x = even_odd(number)\n",
    "print(x)"
   ]
  },
  {
   "cell_type": "markdown",
   "id": "60692a20",
   "metadata": {
    "papermill": {
     "duration": 0.001656,
     "end_time": "2024-11-26T14:41:15.659088",
     "exception": false,
     "start_time": "2024-11-26T14:41:15.657432",
     "status": "completed"
    },
    "tags": []
   },
   "source": [
    "Q2.Return list of peak Elements from the given list [1,4,3,0,5,2], A peak element is an element that is strictly greater than its neighbors."
   ]
  },
  {
   "cell_type": "code",
   "execution_count": 2,
   "id": "ad1c4769",
   "metadata": {
    "execution": {
     "iopub.execute_input": "2024-11-26T14:41:15.664743Z",
     "iopub.status.busy": "2024-11-26T14:41:15.663998Z",
     "iopub.status.idle": "2024-11-26T14:41:15.671137Z",
     "shell.execute_reply": "2024-11-26T14:41:15.670087Z"
    },
    "papermill": {
     "duration": 0.012313,
     "end_time": "2024-11-26T14:41:15.673358",
     "exception": false,
     "start_time": "2024-11-26T14:41:15.661045",
     "status": "completed"
    },
    "tags": []
   },
   "outputs": [
    {
     "name": "stdout",
     "output_type": "stream",
     "text": [
      "4\n",
      "5\n"
     ]
    }
   ],
   "source": [
    "def peak_num(list):\n",
    "    for i in range(len(list)):\n",
    "        if i>0 and i < len(list)-1: # to avoid index exceed\n",
    "            if list[i] > list[i-1] and list[i] > list[i+1]:\n",
    "                print(list[i])\n",
    "'''OR\n",
    "def peak_num1(list):\n",
    "    for i in range(len(list)):\n",
    "        if i>0 and i < len(list)-1and list[i] > list[i-1] and list[i] > list[i+1]: # to avoid index exceed\n",
    "            print(list[i])\n",
    "'''\n",
    "\n",
    "#example \n",
    "a_list =  [1,4,3,0,5,2]\n",
    "\n",
    "peak_num(a_list)"
   ]
  },
  {
   "cell_type": "code",
   "execution_count": null,
   "id": "b8b051d1",
   "metadata": {
    "papermill": {
     "duration": 0.001702,
     "end_time": "2024-11-26T14:41:15.677098",
     "exception": false,
     "start_time": "2024-11-26T14:41:15.675396",
     "status": "completed"
    },
    "tags": []
   },
   "outputs": [],
   "source": []
  }
 ],
 "metadata": {
  "kaggle": {
   "accelerator": "none",
   "dataSources": [],
   "dockerImageVersionId": 30786,
   "isGpuEnabled": false,
   "isInternetEnabled": true,
   "language": "python",
   "sourceType": "notebook"
  },
  "kernelspec": {
   "display_name": "Python 3",
   "language": "python",
   "name": "python3"
  },
  "language_info": {
   "codemirror_mode": {
    "name": "ipython",
    "version": 3
   },
   "file_extension": ".py",
   "mimetype": "text/x-python",
   "name": "python",
   "nbconvert_exporter": "python",
   "pygments_lexer": "ipython3",
   "version": "3.10.14"
  },
  "papermill": {
   "default_parameters": {},
   "duration": 3.177849,
   "end_time": "2024-11-26T14:41:16.098584",
   "environment_variables": {},
   "exception": null,
   "input_path": "__notebook__.ipynb",
   "output_path": "__notebook__.ipynb",
   "parameters": {},
   "start_time": "2024-11-26T14:41:12.920735",
   "version": "2.6.0"
  }
 },
 "nbformat": 4,
 "nbformat_minor": 5
}
