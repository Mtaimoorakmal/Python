{
 "cells": [
  {
   "cell_type": "markdown",
   "id": "f50f9550",
   "metadata": {
    "papermill": {
     "duration": 0.003439,
     "end_time": "2025-03-28T07:16:39.777776",
     "exception": false,
     "start_time": "2025-03-28T07:16:39.774337",
     "status": "completed"
    },
    "tags": []
   },
   "source": [
    "Q1 .Make a function to return the number is even or odd without using any conditional statement"
   ]
  },
  {
   "cell_type": "code",
   "execution_count": 1,
   "id": "435ed383",
   "metadata": {
    "execution": {
     "iopub.execute_input": "2025-03-28T07:16:39.785858Z",
     "iopub.status.busy": "2025-03-28T07:16:39.785411Z",
     "iopub.status.idle": "2025-03-28T07:16:39.800434Z",
     "shell.execute_reply": "2025-03-28T07:16:39.798591Z"
    },
    "papermill": {
     "duration": 0.023625,
     "end_time": "2025-03-28T07:16:39.804384",
     "exception": false,
     "start_time": "2025-03-28T07:16:39.780759",
     "status": "completed"
    },
    "tags": []
   },
   "outputs": [
    {
     "name": "stdout",
     "output_type": "stream",
     "text": [
      "8 is Even\n"
     ]
    }
   ],
   "source": [
    "def even_odd(num):\n",
    "    test = {0 : 'Even' , 1 :\"odd\"}\n",
    "    check = num%2\n",
    "    result  = test[check]\n",
    "    return f'{num} is {result}'\n",
    "    \n",
    "# example \n",
    "number = 8\n",
    "x = even_odd(number)\n",
    "print(x)"
   ]
  },
  {
   "cell_type": "markdown",
   "id": "5873ab9a",
   "metadata": {
    "papermill": {
     "duration": 0.00306,
     "end_time": "2025-03-28T07:16:39.810800",
     "exception": false,
     "start_time": "2025-03-28T07:16:39.807740",
     "status": "completed"
    },
    "tags": []
   },
   "source": [
    "Q2.Return list of peak Elements from the given list [1,4,3,0,5,2], A peak element is an element that is strictly greater than its neighbors.<br>\n",
    "\n",
    "\n",
    "asked in Dot labs interview "
   ]
  },
  {
   "cell_type": "code",
   "execution_count": 2,
   "id": "0cfdc561",
   "metadata": {
    "execution": {
     "iopub.execute_input": "2025-03-28T07:16:39.818741Z",
     "iopub.status.busy": "2025-03-28T07:16:39.818321Z",
     "iopub.status.idle": "2025-03-28T07:16:39.826569Z",
     "shell.execute_reply": "2025-03-28T07:16:39.825270Z"
    },
    "papermill": {
     "duration": 0.01498,
     "end_time": "2025-03-28T07:16:39.828719",
     "exception": false,
     "start_time": "2025-03-28T07:16:39.813739",
     "status": "completed"
    },
    "tags": []
   },
   "outputs": [
    {
     "name": "stdout",
     "output_type": "stream",
     "text": [
      "4\n",
      "5\n"
     ]
    }
   ],
   "source": [
    "def peak_num(list):\n",
    "    for i in range(len(list)):\n",
    "        if i>0 and i < len(list)-1: # to avoid index exceed\n",
    "            if list[i] > list[i-1] and list[i] > list[i+1]:\n",
    "                print(list[i])\n",
    "'''OR\n",
    "def peak_num1(list):\n",
    "    for i in range(len(list)):\n",
    "        if i>0 and i < len(list)-1and list[i] > list[i-1] and list[i] > list[i+1]: # to avoid index exceed\n",
    "            print(list[i])\n",
    "'''\n",
    "\n",
    "#example \n",
    "a_list =  [1,4,3,0,5,2]\n",
    "\n",
    "peak_num(a_list)"
   ]
  },
  {
   "cell_type": "code",
   "execution_count": 3,
   "id": "2c66d44b",
   "metadata": {
    "execution": {
     "iopub.execute_input": "2025-03-28T07:16:39.837311Z",
     "iopub.status.busy": "2025-03-28T07:16:39.836936Z",
     "iopub.status.idle": "2025-03-28T07:16:39.845242Z",
     "shell.execute_reply": "2025-03-28T07:16:39.843322Z"
    },
    "papermill": {
     "duration": 0.015829,
     "end_time": "2025-03-28T07:16:39.847470",
     "exception": false,
     "start_time": "2025-03-28T07:16:39.831641",
     "status": "completed"
    },
    "tags": []
   },
   "outputs": [
    {
     "name": "stdout",
     "output_type": "stream",
     "text": [
      "Peak elements: [4, 5]\n"
     ]
    }
   ],
   "source": [
    "#GPT generated \n",
    "def find_peak_elements(lst):\n",
    "    peaks = []\n",
    "    n = len(lst)\n",
    "    for i in range(n):\n",
    "        left = (i==0) or (lst[i] > lst[i-1])\n",
    "        right = (i== n-1) or (lst[i] > lst[i+1])\n",
    "        if  left and right:\n",
    "            peaks.append(lst[i])\n",
    "    return peaks\n",
    "\n",
    "# Example usage:\n",
    "input_list = [1, 4, 3, 0, 5, 2]\n",
    "peak_elements = find_peak_elements(input_list)\n",
    "print(\"Peak elements:\", peak_elements)\n"
   ]
  },
  {
   "cell_type": "markdown",
   "id": "a61f89b9",
   "metadata": {
    "papermill": {
     "duration": 0.002749,
     "end_time": "2025-03-28T07:16:39.853737",
     "exception": false,
     "start_time": "2025-03-28T07:16:39.850988",
     "status": "completed"
    },
    "tags": []
   },
   "source": [
    "Question: How can you create a list of squares for all even numbers between 1 and 10 using a list comprehension?"
   ]
  },
  {
   "cell_type": "code",
   "execution_count": 4,
   "id": "24b52342",
   "metadata": {
    "execution": {
     "iopub.execute_input": "2025-03-28T07:16:39.862428Z",
     "iopub.status.busy": "2025-03-28T07:16:39.862068Z",
     "iopub.status.idle": "2025-03-28T07:16:39.872370Z",
     "shell.execute_reply": "2025-03-28T07:16:39.871290Z"
    },
    "papermill": {
     "duration": 0.017449,
     "end_time": "2025-03-28T07:16:39.874585",
     "exception": false,
     "start_time": "2025-03-28T07:16:39.857136",
     "status": "completed"
    },
    "tags": []
   },
   "outputs": [
    {
     "data": {
      "text/plain": [
       "[4, 16, 36, 64, 100]"
      ]
     },
     "execution_count": 4,
     "metadata": {},
     "output_type": "execute_result"
    }
   ],
   "source": [
    "sqr_even = [x**2 for x in range(1,11) if x%2 == 0]\n",
    "sqr_even"
   ]
  },
  {
   "cell_type": "markdown",
   "id": "5bb7252d",
   "metadata": {
    "papermill": {
     "duration": 0.002704,
     "end_time": "2025-03-28T07:16:39.880455",
     "exception": false,
     "start_time": "2025-03-28T07:16:39.877751",
     "status": "completed"
    },
    "tags": []
   },
   "source": [
    "Given an array nums containing n distinct numbers in the range [0, n], return the only number in the range that is missing from the array."
   ]
  },
  {
   "cell_type": "markdown",
   "id": "613ae4a5",
   "metadata": {
    "papermill": {
     "duration": 0.00278,
     "end_time": "2025-03-28T07:16:39.886876",
     "exception": false,
     "start_time": "2025-03-28T07:16:39.884096",
     "status": "completed"
    },
    "tags": []
   },
   "source": [
    "Example 1 <br>\n",
    "input: nums = [3,0,1]\n",
    "Output: 2\n",
    "Explanation:\n",
    "n = 3 since there are 3 numbers, so all numbers are in the range [0,3]. 2 is the missing number in the range since it does not appear in nums <br>\n",
    "\n",
    "\n",
    "Example 2 <br>\n",
    "Input: nums = [0,1]\n",
    "Output: 2\n",
    "Explanation:\n",
    "n = 2 since there are 2 numbers, so all numbers are in the range [0,2]. 2 is the missing number in the range since it does not appear in nums."
   ]
  },
  {
   "cell_type": "code",
   "execution_count": 5,
   "id": "68c57c8c",
   "metadata": {
    "execution": {
     "iopub.execute_input": "2025-03-28T07:16:39.894595Z",
     "iopub.status.busy": "2025-03-28T07:16:39.894245Z",
     "iopub.status.idle": "2025-03-28T07:16:39.900502Z",
     "shell.execute_reply": "2025-03-28T07:16:39.899344Z"
    },
    "papermill": {
     "duration": 0.012829,
     "end_time": "2025-03-28T07:16:39.902801",
     "exception": false,
     "start_time": "2025-03-28T07:16:39.889972",
     "status": "completed"
    },
    "tags": []
   },
   "outputs": [
    {
     "name": "stdout",
     "output_type": "stream",
     "text": [
      "Missing number is: 3\n"
     ]
    }
   ],
   "source": [
    "def missing_num(nums):\n",
    "  n = len(nums)\n",
    "  # print(n)\n",
    "  expected_sum = n * (n + 1) // 2\n",
    "  # print(expected_sum)\n",
    "  actual_sum = sum(nums)\n",
    "  # print(actual_sum)\n",
    "  missing_num = expected_sum - actual_sum\n",
    "  return missing_num\n",
    "\n",
    "arr = [0,1,2,4,5]\n",
    "print(\"Missing number is:\", missing_num(arr))"
   ]
  },
  {
   "cell_type": "code",
   "execution_count": null,
   "id": "ca3a1c0a",
   "metadata": {
    "papermill": {
     "duration": 0.002846,
     "end_time": "2025-03-28T07:16:39.909357",
     "exception": false,
     "start_time": "2025-03-28T07:16:39.906511",
     "status": "completed"
    },
    "tags": []
   },
   "outputs": [],
   "source": []
  }
 ],
 "metadata": {
  "kaggle": {
   "accelerator": "none",
   "dataSources": [],
   "dockerImageVersionId": 30786,
   "isGpuEnabled": false,
   "isInternetEnabled": true,
   "language": "python",
   "sourceType": "notebook"
  },
  "kernelspec": {
   "display_name": "Python 3",
   "language": "python",
   "name": "python3"
  },
  "language_info": {
   "codemirror_mode": {
    "name": "ipython",
    "version": 3
   },
   "file_extension": ".py",
   "mimetype": "text/x-python",
   "name": "python",
   "nbconvert_exporter": "python",
   "pygments_lexer": "ipython3",
   "version": "3.10.14"
  },
  "papermill": {
   "default_parameters": {},
   "duration": 4.356969,
   "end_time": "2025-03-28T07:16:40.332225",
   "environment_variables": {},
   "exception": null,
   "input_path": "__notebook__.ipynb",
   "output_path": "__notebook__.ipynb",
   "parameters": {},
   "start_time": "2025-03-28T07:16:35.975256",
   "version": "2.6.0"
  }
 },
 "nbformat": 4,
 "nbformat_minor": 5
}
