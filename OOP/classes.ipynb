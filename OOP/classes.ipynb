{
 "cells": [
  {
   "cell_type": "markdown",
   "metadata": {},
   "source": [
    "Claases in Pyhton"
   ]
  },
  {
   "cell_type": "code",
   "execution_count": 1,
   "metadata": {},
   "outputs": [
    {
     "name": "stdout",
     "output_type": "stream",
     "text": [
      "petrol\n"
     ]
    }
   ],
   "source": [
    "class Car:\n",
    "    def __init__(self , windows ,engine , tyre):\n",
    "        self.windows = windows\n",
    "        self.engin = engine\n",
    "        self.tyre = tyre\n",
    "\n",
    "bmw = Car(2, \"petrol\",4)\n",
    "\n",
    "print(bmw.engin)"
   ]
  },
  {
   "cell_type": "markdown",
   "metadata": {},
   "source": [
    "<h2>Coin toss</h2> <br>\n",
    "Use the classes to do this \n"
   ]
  },
  {
   "cell_type": "code",
   "execution_count": 2,
   "metadata": {},
   "outputs": [
    {
     "data": {
      "text/plain": [
       "'Head'"
      ]
     },
     "execution_count": 2,
     "metadata": {},
     "output_type": "execute_result"
    }
   ],
   "source": [
    "import random\n",
    "class Coin:\n",
    "    def __init__(self) :\n",
    "        self.side_up = \"Head\"\n",
    "        \n",
    "    def toss(self):\n",
    "        if random.randint(0,1) == 0:\n",
    "            self.side_up = \"Head\"\n",
    "        else:\n",
    "            self.side_up = \"Tail\"\n",
    "\n",
    "    def get(self):\n",
    "        return self.side_up\n",
    "    \n",
    "coin1 = Coin()\n",
    "\n",
    "coin1.toss()\n",
    "\n",
    "coin1.get()"
   ]
  },
  {
   "cell_type": "markdown",
   "metadata": {},
   "source": [
    "Loop through the Toss:\n"
   ]
  },
  {
   "cell_type": "code",
   "execution_count": 17,
   "metadata": {},
   "outputs": [
    {
     "name": "stdout",
     "output_type": "stream",
     "text": [
      "1 time coin1 toss result:  Head \n",
      "2 time coin1 toss result:  Head \n",
      "3 time coin1 toss result:  Head \n",
      "4 time coin1 toss result:  Head \n",
      "5 time coin1 toss result:  Tail \n",
      "6 time coin1 toss result:  Tail \n",
      "7 time coin1 toss result:  Tail \n",
      "8 time coin1 toss result:  Tail \n",
      "9 time coin1 toss result:  Tail \n",
      "10 time coin1 toss result:  Tail \n",
      "Total Head = 4\n",
      "Total Tail = 6\n"
     ]
    }
   ],
   "source": [
    "# Print the total heads and tails in 10 tosses\n",
    "toss_count={\"Head\":0 , \"Tail\" : 0}\n",
    "for i in range(1,11):\n",
    "    coin1.toss()\n",
    "    result = coin1.get()\n",
    "    if result==\"Head\":\n",
    "        toss_count[\"Head\"] += 1\n",
    "    else:\n",
    "        toss_count[\"Tail\"] += 1\n",
    "    print(f'{i} time coin1 toss result:  {result} ')\n",
    "\n",
    "for key , value in toss_count.items():\n",
    "    print(f'Total {key} = {value}')\n"
   ]
  },
  {
   "cell_type": "code",
   "execution_count": null,
   "metadata": {},
   "outputs": [],
   "source": []
  }
 ],
 "metadata": {
  "kernelspec": {
   "display_name": "Python 3",
   "language": "python",
   "name": "python3"
  },
  "language_info": {
   "codemirror_mode": {
    "name": "ipython",
    "version": 3
   },
   "file_extension": ".py",
   "mimetype": "text/x-python",
   "name": "python",
   "nbconvert_exporter": "python",
   "pygments_lexer": "ipython3",
   "version": "3.12.6"
  }
 },
 "nbformat": 4,
 "nbformat_minor": 2
}
