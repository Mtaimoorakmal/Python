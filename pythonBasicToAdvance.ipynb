{
  "cells": [
    {
      "cell_type": "markdown",
      "metadata": {
        "id": "view-in-github",
        "colab_type": "text"
      },
      "source": [
        "<a href=\"https://colab.research.google.com/github/Mtaimoorakmal/Python/blob/main/pythonBasicToAdvance.ipynb\" target=\"_parent\"><img src=\"https://colab.research.google.com/assets/colab-badge.svg\" alt=\"Open In Colab\"/></a>"
      ]
    },
    {
      "cell_type": "markdown",
      "metadata": {
        "id": "DktUiJyrBOTB"
      },
      "source": [
        "#  Program 1"
      ]
    },
    {
      "cell_type": "code",
      "execution_count": null,
      "metadata": {
        "id": "cM2pixuRBOTN",
        "outputId": "2446586b-b68b-4ef9-cc61-39131170d354",
        "colab": {
          "base_uri": "https://localhost:8080/"
        }
      },
      "outputs": [
        {
          "output_type": "stream",
          "name": "stdout",
          "text": [
            "Hello World\n"
          ]
        }
      ],
      "source": [
        "print(\"Hello World\")"
      ]
    },
    {
      "cell_type": "markdown",
      "metadata": {
        "id": "kvRNWNzdBOTZ"
      },
      "source": [
        "# Program 2\n",
        "Wrtie a Python Program to do arithmatic Operations (+.-.*,/)"
      ]
    },
    {
      "cell_type": "code",
      "execution_count": null,
      "metadata": {
        "id": "54p8phhXBOTb",
        "outputId": "a6a0eeb8-d64c-4e27-82d7-aeae52937676"
      },
      "outputs": [
        {
          "name": "stdout",
          "output_type": "stream",
          "text": [
            "Sum : 7 + 2 = 9\n",
            "Subtraction : 7 - 2 = 5\n",
            "Multiplication : 7 * 2 = 14\n",
            "Divison : 7 / 2 = 3.5\n"
          ]
        }
      ],
      "source": [
        "# Take input of numbers to do Arithmatic Operations\n",
        "\n",
        "# num1 = float(input(\"Enter 1st Number: \"))\n",
        "# num2 = float(input(\"Enter 2nd Number: \"))\n",
        "\n",
        "\n",
        "num1 =7\n",
        "num2 =2\n",
        "\n",
        "#addition\n",
        "sum = num1 + num2\n",
        "\n",
        "#Subtraction\n",
        "sub = num1 -num2\n",
        "\n",
        "#multiplycation\n",
        "\n",
        "mul = num1*num2\n",
        "\n",
        "#division\n",
        "\n",
        "div = num1 /num2\n",
        "\n",
        "#print all arithmatic operations results\n",
        "\n",
        "print(f\"Sum : {num1} + {num2} = {sum}\")\n",
        "print(f\"Subtraction : {num1} - {num2} = {sub}\")\n",
        "print(f\"Multiplication : {num1} * {num2} = {mul}\")\n",
        "print(f\"Divison : {num1} / {num2} = {div}\")\n",
        "\n",
        "\n"
      ]
    },
    {
      "cell_type": "markdown",
      "metadata": {
        "id": "Pr8IWLC1BOTd"
      },
      "source": [
        "# Program 3\n",
        "write a Python Program to find the area of a Triangle"
      ]
    },
    {
      "cell_type": "code",
      "execution_count": null,
      "metadata": {
        "id": "hlMaRWmxBOTg",
        "outputId": "841df828-2e29-4f95-a439-c56930f402ac",
        "colab": {
          "base_uri": "https://localhost:8080/"
        }
      },
      "outputs": [
        {
          "output_type": "stream",
          "name": "stdout",
          "text": [
            "Enter the base of the Triangle: 4\n",
            "Enter the height of the Triangle: 5\n",
            "Area of the Triangle is : 10.0\n"
          ]
        }
      ],
      "source": [
        "# input Base and Height from the user\n",
        "base = float(input(\"Enter the base of the Triangle: \")) # 3 entred\n",
        "height = float(input(\"Enter the height of the Triangle: \")) # 4 entred\n",
        "\n",
        "\n",
        "#Calculate the area\n",
        "Area = 1/ 2 * base * height\n",
        "#Display the Area\n",
        "print(f\"Area of the Triangle is : {Area}\")"
      ]
    },
    {
      "cell_type": "markdown",
      "source": [
        "# Program 4\n",
        "\n",
        "write a Program to Swape Two Variables"
      ],
      "metadata": {
        "id": "2qnQ5NR4DDna"
      }
    },
    {
      "cell_type": "code",
      "execution_count": null,
      "metadata": {
        "id": "GWRLFcvFBOTh",
        "colab": {
          "base_uri": "https://localhost:8080/"
        },
        "outputId": "d40340e3-8550-49d2-e8ca-eb44cc079889"
      },
      "outputs": [
        {
          "output_type": "stream",
          "name": "stdout",
          "text": [
            "Enter the value of First variable (a): 5\n",
            "Enter the value of Second variable (b): 9\n",
            "Before Swaping a = 5 and b = 9\n",
            "After Swaping a = 9 and b = 5\n"
          ]
        }
      ],
      "source": [
        "#input two Variables\n",
        "\n",
        "a = input(\"Enter the value of First variable (a): \")\n",
        "b = input(\"Enter the value of Second variable (b): \")\n",
        "\n",
        "#Display the Original Variables\n",
        "\n",
        "print(f\"Before Swaping a = {a} and b = {b}\")\n",
        "\n",
        "# now swape the values of both variables\n",
        "temp = a\n",
        "a = b\n",
        "b = temp\n",
        "\n",
        "#Display the Swapped Variables\n",
        "\n",
        "print(f\"After Swaping a = {a} and b = {b}\")\n"
      ]
    },
    {
      "cell_type": "markdown",
      "source": [
        "# Program 5\n",
        "Write a program to gnerate a random num"
      ],
      "metadata": {
        "id": "KZ8yahQSHU7G"
      }
    },
    {
      "cell_type": "code",
      "source": [
        "import random\n",
        "#creat a random num from 1 to 100 (both included)\n",
        "random_num = random.randint(1 , 100)\n",
        "#disoplay the random num\n",
        "print(f\"random num from 1 to 100 : {random_num}\")"
      ],
      "metadata": {
        "id": "F1cKYDWlDqal",
        "colab": {
          "base_uri": "https://localhost:8080/"
        },
        "outputId": "47a9b0b4-671f-4b98-a5e6-91117e3593bd"
      },
      "execution_count": null,
      "outputs": [
        {
          "output_type": "stream",
          "name": "stdout",
          "text": [
            "random num from 1 to 100 : 65\n"
          ]
        }
      ]
    },
    {
      "cell_type": "markdown",
      "source": [
        "# Program 6\n",
        "\n",
        "Write a Python program to convert kilometers to miles.\n"
      ],
      "metadata": {
        "id": "FLjK2bAzISqt"
      }
    },
    {
      "cell_type": "code",
      "source": [
        "#take kilometers inout from the user\n",
        "\n",
        "kilometers = float(input(\"enter Kilometers : \"))\n",
        "\n",
        "#Conversion Factor 1 mile  = 1.64 kilometers\n",
        "# 1 kilometer   = 1/1.64 miles\n",
        "\n",
        "conversion_factor  = 1/1.64\n",
        "\n",
        "\n",
        "miles  = conversion_factor * kilometers\n",
        "\n",
        "# display the miles\n",
        "\n",
        "print(f\"{kilometers} Kilometers  = {miles} miles\")\n",
        "\n"
      ],
      "metadata": {
        "id": "uVRUfPR5FoIj",
        "colab": {
          "base_uri": "https://localhost:8080/"
        },
        "outputId": "81433afc-c3f9-47c0-d19d-28b650aa64d5"
      },
      "execution_count": null,
      "outputs": [
        {
          "output_type": "stream",
          "name": "stdout",
          "text": [
            "enter Kilometers : 44\n",
            "44.0 Kilometers  = 26.829268292682926 miles\n"
          ]
        }
      ]
    },
    {
      "cell_type": "markdown",
      "source": [
        "# Program 7\n",
        "Write a Python program to convert miles to kilometers."
      ],
      "metadata": {
        "id": "dw9A4TzdJmj6"
      }
    },
    {
      "cell_type": "code",
      "source": [
        "#take miles inout from the user\n",
        "\n",
        "miles = float(input(\"enter Kilometers : \"))\n",
        "\n",
        "#Conversion Factor 1 mile  = 1.64 kilometers\n",
        "# 1 kilometer   = 1/1.64 miles\n",
        "\n",
        "conversion_factor  = 1.64\n",
        "\n",
        "\n",
        "kilometers  = conversion_factor * miles\n",
        "\n",
        "# display the miles\n",
        "\n",
        "print(f\"{miles} miles ={kilometers} Kilometers  \")"
      ],
      "metadata": {
        "colab": {
          "base_uri": "https://localhost:8080/"
        },
        "id": "CRbrda6GJjA-",
        "outputId": "f436b682-dabb-4e58-969b-acdebc266b59"
      },
      "execution_count": null,
      "outputs": [
        {
          "output_type": "stream",
          "name": "stdout",
          "text": [
            "enter Kilometers : 66\n",
            "66.0 miles =108.24 Kilometers  \n"
          ]
        }
      ]
    },
    {
      "cell_type": "markdown",
      "source": [
        "# Program 8\n",
        "Write a Python program to convert Celsius to Fahrenheit."
      ],
      "metadata": {
        "id": "x55RbePNpSjz"
      }
    },
    {
      "cell_type": "code",
      "source": [
        "#get temperatiure from user\n",
        "Temp_Celsius = float(input(\"Enter the Temperture: \"))\n",
        "\n",
        "#covert temp from celsius to fahrenheit\n",
        "\n",
        "Temp_fahr = (Temp_Celsius * 9/5) + 32\n",
        "\n",
        "#dispaly the fahrenheit temperature:\n",
        "\n",
        "print(f\"{Temp_Celsius} degrees Celsius is equal to {Temp_fahr} degrees Fahrenheit.\")"
      ],
      "metadata": {
        "colab": {
          "base_uri": "https://localhost:8080/"
        },
        "id": "nA5_cphDKGDB",
        "outputId": "281cc3b8-2425-4720-d96e-2ed9201cf72d"
      },
      "execution_count": null,
      "outputs": [
        {
          "output_type": "stream",
          "name": "stdout",
          "text": [
            "Enter the Temperture: 40\n",
            "40.0 degrees Celsius is equal to 104.0 degrees Fahrenheit.\n"
          ]
        }
      ]
    },
    {
      "cell_type": "markdown",
      "source": [
        "#Program 9\n",
        "Write a Python program to display calendar."
      ],
      "metadata": {
        "id": "vq4lc0IIrnnO"
      }
    },
    {
      "cell_type": "code",
      "source": [
        "import calendar\n",
        "\n",
        "year = int(input(\"Enter a Year: \"))\n",
        "\n",
        "month = int(input(\"Enter a Month: \"))\n",
        "\n",
        "cal_month  = calendar.month(year,month)\n",
        "\n",
        "\n",
        "print(cal_month)\n",
        "\n",
        "\n"
      ],
      "metadata": {
        "colab": {
          "base_uri": "https://localhost:8080/"
        },
        "id": "LfahzIeSqyvu",
        "outputId": "350e29ec-f09a-4ee1-c2d4-6bac71b2a710"
      },
      "execution_count": null,
      "outputs": [
        {
          "output_type": "stream",
          "name": "stdout",
          "text": [
            "Enter a Year: 2023\n",
            "Enter a Month: 12\n",
            "   December 2023\n",
            "Mo Tu We Th Fr Sa Su\n",
            "             1  2  3\n",
            " 4  5  6  7  8  9 10\n",
            "11 12 13 14 15 16 17\n",
            "18 19 20 21 22 23 24\n",
            "25 26 27 28 29 30 31\n",
            "\n"
          ]
        }
      ]
    },
    {
      "cell_type": "markdown",
      "source": [
        "# Program 10\n",
        "\n",
        "write a program to swape two variables with temp variable"
      ],
      "metadata": {
        "id": "9gocBOIszsyE"
      }
    },
    {
      "cell_type": "code",
      "source": [
        "a = input(\"Enter the value of variable (a): \")\n",
        "b = input(\"Enter the value of variable (b): \")\n",
        "#display the variables\n",
        "print(f\"Before swaping\")\n",
        "print(f\" a = {a}\")\n",
        "print(f\" b = {b}\")\n",
        "#swape the variables\n",
        "a,b = b, a\n",
        "#display the variables\n",
        "print(f\"After swaping\")\n",
        "print(f\" a = {a}\")\n",
        "print(f\" b = {b}\")\n",
        "\n"
      ],
      "metadata": {
        "colab": {
          "base_uri": "https://localhost:8080/"
        },
        "id": "Exm7BGijsNRA",
        "outputId": "80d4152b-1e4f-44e9-9769-922520389e91"
      },
      "execution_count": null,
      "outputs": [
        {
          "output_type": "stream",
          "name": "stdout",
          "text": [
            "Enter the value of variable (a): 7\n",
            "Enter the value of variable (b): 2\n",
            "Before swaping\n",
            " a = 7\n",
            " b = 2\n",
            "After swaping\n",
            " a = 2\n",
            " b = 7\n"
          ]
        }
      ]
    },
    {
      "cell_type": "markdown",
      "source": [
        "# Program 10A\n",
        "write a program to swape two variables with temp variable"
      ],
      "metadata": {
        "id": "Ozd85pCb0b8M"
      }
    },
    {
      "cell_type": "code",
      "source": [
        "# applicalbe on Intergers and floats only\n",
        "\n",
        "a = int(input(\"Enter the value of variable (a): \"))\n",
        "b = int(input(\"Enter the value of variable (b): \"))\n",
        "print(f\"Before swaping\")\n",
        "print(f\" a = {a}\")\n",
        "print(f\" b = {b}\")\n",
        "#swaping without temp variable\n",
        "a = a+b\n",
        "b = a-b\n",
        "a = a-b\n",
        "\n",
        "\n",
        "print(f\"After swaping\")\n",
        "print(f\" a = {a}\")\n",
        "print(f\" b = {b}\")\n",
        "\n"
      ],
      "metadata": {
        "colab": {
          "base_uri": "https://localhost:8080/"
        },
        "id": "JAcSZBiO0Vmp",
        "outputId": "eadf00ec-db38-4ec5-e2ba-6a2889bdb389"
      },
      "execution_count": null,
      "outputs": [
        {
          "output_type": "stream",
          "name": "stdout",
          "text": [
            "Enter the value of variable (a): 6\n",
            "Enter the value of variable (b): 9\n",
            "Before swaping\n",
            " a = 6\n",
            " b = 9\n",
            "After swaping\n",
            " a = 9\n",
            " b = 6\n"
          ]
        }
      ]
    },
    {
      "cell_type": "markdown",
      "source": [
        "# Program 11\n",
        "Write a Python Program to Check if a Number is Positive, Negative or Zero."
      ],
      "metadata": {
        "id": "CPw_ZTKELVi4"
      }
    },
    {
      "cell_type": "code",
      "source": [
        "num = float(input(\"Enter a Num : \"))\n",
        "\n",
        "if num > 0 :\n",
        "  print(f\"{num}  is a positive Number\")\n",
        "elif num == 0:\n",
        "  print(f\"{0} is Zero, and it is Nutral\")\n",
        "else:\n",
        "  print(f\"{num} is  a nagative Number\")\n",
        "\n"
      ],
      "metadata": {
        "colab": {
          "base_uri": "https://localhost:8080/"
        },
        "id": "ZOOBDnEq0yua",
        "outputId": "f54d7ed3-7bd2-4d51-c296-c12df5d6541d"
      },
      "execution_count": null,
      "outputs": [
        {
          "output_type": "stream",
          "name": "stdout",
          "text": [
            "Enter a Num : -3\n",
            "-3.0 is  a nagative Number\n"
          ]
        }
      ]
    },
    {
      "cell_type": "markdown",
      "source": [
        "# Program 12\n",
        "Write a Python Program to Check if a Number is Odd or Even."
      ],
      "metadata": {
        "id": "drnzFhTJMvGu"
      }
    },
    {
      "cell_type": "code",
      "source": [
        "num = int(input(\"Enter a Number: \"))\n",
        "\n",
        "if num % 2 == 0:\n",
        "          print(\"It is EVEN\")\n",
        "else:\n",
        "  print(\"it is ODD\")\n"
      ],
      "metadata": {
        "colab": {
          "base_uri": "https://localhost:8080/"
        },
        "id": "-f34RM3yMJQg",
        "outputId": "d643c324-833c-45bd-d654-df4766dd9c99"
      },
      "execution_count": null,
      "outputs": [
        {
          "output_type": "stream",
          "name": "stdout",
          "text": [
            "Enter a Number: 77\n",
            "it is ODD\n"
          ]
        }
      ]
    },
    {
      "cell_type": "markdown",
      "source": [
        "# Program 13\n",
        "Write a Python Program to Check Leap Year."
      ],
      "metadata": {
        "id": "E_3BMNpMOBzX"
      }
    },
    {
      "cell_type": "code",
      "source": [
        "year = int(input(\"Enter a Year:  \"))\n",
        "\n",
        "# not divided by 100 means not a century year\n",
        "# year divided by 4 is a leap year\n",
        "if year % 4 ==0 and  year % 100 != 0: #(not a century year)\n",
        "  print(f\"{year} is a Leap Year\")\n",
        "\n",
        "  # divided by 100 means century year (ending with 00)\n",
        "# century year divided by 400 is leap year\n",
        "elif year % 100 ==0 and year % 400 ==0 : #(century year)\n",
        "  print(f\"{year} is a Leap Year\")\n",
        "else:\n",
        "  print(f\"{year} Not a Leap Year\")\n"
      ],
      "metadata": {
        "colab": {
          "base_uri": "https://localhost:8080/"
        },
        "id": "XMxNnQoFNx65",
        "outputId": "4367ea7b-1af4-4fe3-bfe8-3c9557271f77"
      },
      "execution_count": null,
      "outputs": [
        {
          "output_type": "stream",
          "name": "stdout",
          "text": [
            "Enter a Year:  2100\n",
            "2100 Not a Leap Year\n"
          ]
        }
      ]
    },
    {
      "cell_type": "markdown",
      "source": [
        "# Program 14\n",
        "write a program to calculate Age"
      ],
      "metadata": {
        "id": "EgyYpewgT14Z"
      }
    },
    {
      "cell_type": "code",
      "source": [
        "#importing required modules\n",
        "from datetime import date\n",
        "#defining the function for subtracting\n",
        "def get_difference(startdate, enddate):\n",
        "    diff = enddate - startdate\n",
        "    return diff.days\n",
        "#initializing dates\n",
        "startdate = date(2021, 2, 5)\n",
        "enddate = date.today()\n",
        "#storing the result and calling the function\n",
        "Total_days = get_difference(startdate, enddate)\n",
        "days= (Total_days % 365) % 30\n",
        "months = int((Total_days % 365)/30)\n",
        "years = int(Total_days/365)\n",
        "#displaying the result\n",
        "print(f'Age is  {years} years , {months} Months, {days} Days ')"
      ],
      "metadata": {
        "colab": {
          "base_uri": "https://localhost:8080/"
        },
        "id": "S1s5AmjqO5AG",
        "outputId": "dc45a8b8-2925-42c6-e853-39f5d102fc99"
      },
      "execution_count": null,
      "outputs": [
        {
          "output_type": "stream",
          "name": "stdout",
          "text": [
            "Age is  2 years , 10 Months, 5 Days \n"
          ]
        }
      ]
    },
    {
      "cell_type": "markdown",
      "source": [
        "# Program 15\n",
        "Write a Python Program to Check Prime Number.\n",
        "Prime Numbers:\n",
        "A prime number is a whole number that cannot be evenly divided by any other number\n",
        "except for 1 and itself. For example, 2, 3, 5, 7, 11, and 13 are prime numbers because they\n",
        "cannot be divided by any other positive integer except for 1 and their own value."
      ],
      "metadata": {
        "id": "5ykU6Parj9iu"
      }
    },
    {
      "cell_type": "code",
      "source": [
        "num =int(input(\"Enter a num: \"))\n",
        "\n",
        "# define a flag variable\n",
        "flag = False\n",
        "if num ==1:\n",
        "  print(f\"{num} is not  a prime Number\")\n",
        "# check for factors\n",
        "elif num > 1:\n",
        "  for i in range(2 , num):\n",
        "    if num % i ==0: # factor is found set the flag True\n",
        "      flag = True\n",
        "      break\n",
        "\n",
        "  if flag:\n",
        "    print(f\"{num} is not a prime Number\")\n",
        "  else:\n",
        "    print(f\"{num} is  a prime Number\")\n",
        "\n"
      ],
      "metadata": {
        "colab": {
          "base_uri": "https://localhost:8080/"
        },
        "id": "aFqi42xrP8qn",
        "outputId": "2084bda2-a18c-4bc2-f9b9-2eea275de1e3"
      },
      "execution_count": null,
      "outputs": [
        {
          "output_type": "stream",
          "name": "stdout",
          "text": [
            "Enter a num: 2\n",
            "2 is  a prime Number\n"
          ]
        }
      ]
    },
    {
      "cell_type": "markdown",
      "source": [
        "# Python 16\n",
        "Program to display all the prime numbers within an interval"
      ],
      "metadata": {
        "id": "HW8_MWNeIT8k"
      }
    },
    {
      "cell_type": "code",
      "source": [
        "# Python program to display all the prime numbers within an interval\n",
        "lower = 1  # OR TAKE  INPUT => int(input (\"Please, Enter the Lowest Range Value: \"))\n",
        "upper = 11 # OR TAKE  INPUT => int(input (\"Please, Enter the Upper Range Value: \"))\n",
        "print(\"Prime numbers between\", lower, \"and\", upper, \"are:\")\n",
        "for num in range(lower, upper + 1):\n",
        "  if num > 1:\n",
        "    for i in range(2, num):\n",
        "      if (num % i) == 0:\n",
        "        break\n",
        "    else:\n",
        "      print(num)\n"
      ],
      "metadata": {
        "colab": {
          "base_uri": "https://localhost:8080/"
        },
        "id": "xw-onGqdk2MN",
        "outputId": "a5a208c2-2d13-453b-fb30-74e309080a42"
      },
      "execution_count": null,
      "outputs": [
        {
          "output_type": "stream",
          "name": "stdout",
          "text": [
            "Prime numbers between 1 and 11 are:\n",
            "2\n",
            "3\n",
            "5\n",
            "7\n",
            "11\n"
          ]
        }
      ]
    },
    {
      "cell_type": "markdown",
      "source": [
        "# Program 17\n",
        "Swap two string variables without using third or temp variable"
      ],
      "metadata": {
        "id": "bMuj_8wJWJE5"
      }
    },
    {
      "cell_type": "code",
      "source": [
        "str1 = \"Good\";\n",
        "str2 = \"morning\";\n",
        "\n",
        "print(\"Strings before swapping: \" + str1 + \" \" + str2);\n",
        "\n",
        "#Concatenate both the string str1 and str2 and store it in str1\n",
        "\n",
        "str1 = str1 + str2;\n",
        "print()\n",
        "#Extract str2 from updated str1\n",
        "str2 = str1[0 : (len(str1) - len(str2))]; # 0 to 3 that is good\n",
        "#Extract str1 from updated str1\n",
        "str1 = str1[len(str2):];   # 4 to 10 thts is good\n",
        "\n",
        "print(\"Strings after swapping: \" + str1 + \" \" + str2);"
      ],
      "metadata": {
        "colab": {
          "base_uri": "https://localhost:8080/"
        },
        "id": "0xtSxspVn07o",
        "outputId": "1c230abc-bc28-4856-dad1-cb7648655f55"
      },
      "execution_count": null,
      "outputs": [
        {
          "output_type": "stream",
          "name": "stdout",
          "text": [
            "Strings before swapping: Good morning\n",
            "\n",
            "Strings after swapping: morning Good\n"
          ]
        }
      ]
    },
    {
      "cell_type": "markdown",
      "source": [
        "# Program 18\n",
        "Find the Prime Factors"
      ],
      "metadata": {
        "id": "bgwwLzPUVcFX"
      }
    },
    {
      "cell_type": "code",
      "source": [
        "#get a number by input\n",
        "number  = int(input(\"Enter the number: \"))\n",
        "# write the function for prime factors\n",
        "def get_prime_factors(number):\n",
        "  factors = []\n",
        "  divisor = 2\n",
        "  while divisor <= number:\n",
        "    if number % divisor == 0:\n",
        "      factors.append(divisor)\n",
        "      number = number // divisor\n",
        "    else:\n",
        "      divisor +=1\n",
        "  return factors\n",
        "\n",
        "# call the function\n",
        "print(f\"The prime factors of the {number} are:\")\n",
        "get_prime_factors(number)\n",
        "\n",
        "\n"
      ],
      "metadata": {
        "colab": {
          "base_uri": "https://localhost:8080/"
        },
        "id": "AZd6clHXnkIl",
        "outputId": "2df01292-d3b9-46f6-e196-20e08a19a418"
      },
      "execution_count": null,
      "outputs": [
        {
          "output_type": "stream",
          "name": "stdout",
          "text": [
            "Enter the number: 728\n",
            "The prime factors of the 728 are:\n"
          ]
        },
        {
          "output_type": "execute_result",
          "data": {
            "text/plain": [
              "[2, 2, 2, 7, 13]"
            ]
          },
          "metadata": {},
          "execution_count": 5
        }
      ]
    },
    {
      "cell_type": "markdown",
      "source": [
        "# Program 19\n",
        "write a python function to check if a given string is a palindrome"
      ],
      "metadata": {
        "id": "nWbAL0gwZY02"
      }
    },
    {
      "cell_type": "code",
      "source": [
        "def is_palindrome(s):\n",
        "    # Convert the string into a list and eliminate all spaces\n",
        "    forward = [i for i in s if i != \" \"]\n",
        "\n",
        "    # Reverse the string\n",
        "    reversed_str = forward[::-1]\n",
        "\n",
        "    # Check if both are equal, then it is a palindrome\n",
        "    return forward == reversed_str\n",
        "\n",
        "while True:\n",
        "    user_input = input(\"Enter a string (or type 'exit' to finish): \")\n",
        "\n",
        "    if user_input.lower() == 'exit':\n",
        "        break\n",
        "\n",
        "    result = is_palindrome(user_input)\n",
        "    print(f\"Is '{user_input}' a palindrome? {result}\")"
      ],
      "metadata": {
        "colab": {
          "base_uri": "https://localhost:8080/"
        },
        "id": "WQ205iHZXgbl",
        "outputId": "ce6a5b33-2141-4f33-cd62-5e5fe0dd3ca3"
      },
      "execution_count": null,
      "outputs": [
        {
          "name": "stdout",
          "output_type": "stream",
          "text": [
            "Enter a string (or type 'exit' to finish): 786\n",
            "Is '786' a palindrome? False\n",
            "Enter a string (or type 'exit' to finish): level\n",
            "Is 'level' a palindrome? True\n",
            "Enter a string (or type 'exit' to finish): this\n",
            "Is 'this' a palindrome? False\n",
            "Enter a string (or type 'exit' to finish): exit\n"
          ]
        }
      ]
    },
    {
      "cell_type": "markdown",
      "source": [
        "# Program 20\n",
        "Write a function to Sort a given String"
      ],
      "metadata": {
        "id": "XFjqNAZ8jiO-"
      }
    },
    {
      "cell_type": "code",
      "source": [
        "def sorted_words(words):\n",
        "  return ' '.join(sorted(words.split(), key = str.casefold))\n",
        "\n",
        "words = input(\"Enter the words\")\n",
        "\n",
        "sorted_words(words)\n"
      ],
      "metadata": {
        "colab": {
          "base_uri": "https://localhost:8080/",
          "height": 53
        },
        "id": "lqKjjFuPfeEr",
        "outputId": "9657cbc8-a024-49c9-f9d0-19d396cf503b"
      },
      "execution_count": null,
      "outputs": [
        {
          "name": "stdout",
          "output_type": "stream",
          "text": [
            "Enter the wordsapple Orange banana  Almond\n"
          ]
        },
        {
          "output_type": "execute_result",
          "data": {
            "text/plain": [
              "'Almond apple banana Orange'"
            ],
            "application/vnd.google.colaboratory.intrinsic+json": {
              "type": "string"
            }
          },
          "metadata": {},
          "execution_count": 9
        }
      ]
    },
    {
      "cell_type": "markdown",
      "source": [
        "# Program 21\n",
        "Write a function to Sort a given List"
      ],
      "metadata": {
        "id": "id4oxNJbbqlh"
      }
    },
    {
      "cell_type": "code",
      "source": [
        "# take a numeric input convert that into a list\n",
        "arr = ((input(\"enter numeric values for list elements : \")).split())\n",
        "print(f\"this is given List:  {arr}\")\n",
        "#write a function to sort teh list\n",
        "def sorted_array(arr):\n",
        "  return sorted(arr)\n",
        "print(f\"this is Sorted List:  {sorted_array(arr)}\")\n"
      ],
      "metadata": {
        "colab": {
          "base_uri": "https://localhost:8080/"
        },
        "id": "tnefOlNghPjX",
        "outputId": "06959822-14c3-4665-9c85-c27fc74e54df"
      },
      "execution_count": null,
      "outputs": [
        {
          "output_type": "stream",
          "name": "stdout",
          "text": [
            "enter numeric values for list elements : 7 2 4 9 3 5 1\n",
            "this is given List:  ['7', '2', '4', '9', '3', '5', '1']\n",
            "this is Sorted List:  ['1', '2', '3', '4', '5', '7', '9']\n"
          ]
        }
      ]
    },
    {
      "cell_type": "markdown",
      "source": [
        "# Program 22\n",
        "\n",
        "Find the index of elements of a list.\n",
        "\n"
      ],
      "metadata": {
        "id": "Z3VidWXNvfcT"
      }
    },
    {
      "cell_type": "code",
      "source": [
        "#function to find the index\n",
        "def index_all(search_list , item):\n",
        "  index_list = []\n",
        "  for index , value in enumerate(search_list):\n",
        "    if value == item:\n",
        "      index_list.append([index])\n",
        "  return index_list\n",
        "# Example\n",
        "\n",
        "arr = [1,2,3,4,2,4,6,88]\n",
        "\n",
        "index_all(arr , 4)"
      ],
      "metadata": {
        "colab": {
          "base_uri": "https://localhost:8080/"
        },
        "id": "VwQ3RyrcaYOB",
        "outputId": "5cd55883-a47c-4fd1-c67d-a39db7ea14b8"
      },
      "execution_count": null,
      "outputs": [
        {
          "output_type": "execute_result",
          "data": {
            "text/plain": [
              "[[3], [5]]"
            ]
          },
          "metadata": {},
          "execution_count": 3
        }
      ]
    },
    {
      "cell_type": "markdown",
      "source": [
        "# Program 23\n",
        "Find the index of elements of a list(list may be of many dimentions.\n",
        "\n",
        "You are given with a list and an element , you have to find the index of that element. list may one dimentinal , two dimentional and more dimentional"
      ],
      "metadata": {
        "id": "cjzKBnnHx5o_"
      }
    },
    {
      "cell_type": "code",
      "source": [
        "#function to find the index\n",
        "def index_all(search_list , item):\n",
        "  index_list = []\n",
        "  for index , value in enumerate(search_list):\n",
        "    if value == item:\n",
        "      index_list.append([index])\n",
        "    elif isinstance(search_list[index] , list):\n",
        "      for i in index_all(search_list[index] , item):\n",
        "        index_list.append([index]+i)\n",
        "  return index_list\n",
        "\n",
        "# Examples\n",
        "one_dim_arr = [1,2,3,4,2,4,6,88]\n",
        "print(f\"{index_all(one_dim_arr , 4)}\")\n",
        "#multidimentinal arrays\n",
        "\n",
        "mul_dim_arr = [[1,2,3,5,3],2,[1,2],[1,2,3]]\n",
        "print(f\"{index_all(mul_dim_arr , 3)}\")\n",
        "\n",
        "mul_dim_arr1 = [[[1,2,3],2,[1,2],[1,2,3]],[2],[1,2,3]]\n",
        "print(f\"{index_all(mul_dim_arr1 , 2)}\")"
      ],
      "metadata": {
        "id": "eoEXia0lxb18",
        "outputId": "350930a3-038d-4f45-b24c-d1e2bb65ddd1",
        "colab": {
          "base_uri": "https://localhost:8080/"
        }
      },
      "execution_count": null,
      "outputs": [
        {
          "output_type": "stream",
          "name": "stdout",
          "text": [
            "[[3], [5]]\n",
            "[[0, 2], [0, 4], [3, 2]]\n",
            "[[0, 0, 1], [0, 1], [0, 2, 1], [0, 3, 1], [1, 0], [2, 1]]\n"
          ]
        }
      ]
    },
    {
      "cell_type": "code",
      "source": [],
      "metadata": {
        "id": "KYhnejJU1Ila"
      },
      "execution_count": null,
      "outputs": []
    },
    {
      "cell_type": "markdown",
      "source": [
        "# Program 24\n",
        "Bineary Search algorithm"
      ],
      "metadata": {
        "id": "_ST9Iw823a3o"
      }
    },
    {
      "cell_type": "code",
      "source": [
        "def binary_search(array , target):\n",
        "  low , high = 0 , len(array)-1\n",
        "\n",
        "  while low <= high:\n",
        "\n",
        "    mid = (low+high) // 2 # devide the array into 2 equal parts\n",
        "    mid_element = array[mid]\n",
        "\n",
        "    if mid_element == target:\n",
        "      return mid\n",
        "    elif mid_element < target:\n",
        "      low = mid +1  # discard the left half\n",
        "    else:\n",
        "      high = mid-1  #discard the right half\n",
        "\n",
        "  return -1\n",
        "\n",
        "#example #1\n",
        "sorted_array1 = [1,2,3,4,5,6]\n",
        "target_element1 = 3\n",
        "#example # 2\n",
        "sorted_array = [14, 66, 151, 235, 260, 370, 470, 476, 523, 544, 604, 626, 635, 639, 836, 837, 868, 995]\n",
        "target_element = 639\n",
        "\n",
        "result = binary_search(sorted_array, target_element)\n",
        "\n",
        "if result != -1:\n",
        "    print(f\"Element {target_element} found at index {result}.\")\n",
        "else:\n",
        "    print(f\"Element {target_element} not found in the array.\")\n",
        "\n"
      ],
      "metadata": {
        "id": "su4Tzuya4lXY",
        "outputId": "cf755397-9823-4479-e970-370b6c219667",
        "colab": {
          "base_uri": "https://localhost:8080/"
        }
      },
      "execution_count": null,
      "outputs": [
        {
          "output_type": "stream",
          "name": "stdout",
          "text": [
            "Element 639 found at index 13.\n"
          ]
        }
      ]
    },
    {
      "cell_type": "markdown",
      "source": [
        "# Program 25\n",
        "Leap Year"
      ],
      "metadata": {
        "id": "a3B1hj5MbNY9"
      }
    },
    {
      "cell_type": "code",
      "source": [
        "year = int(input(\"Enter Year: \"))\n",
        "\n",
        "if (year % 100 == 0 and year % 400 == 0) or ( year % 4 == 0 and year %100 !=0 ):\n",
        "  print(f\"{year} is a Leap Year\")\n",
        "else:\n",
        "  print(f\"{year} is not Leap Year\")"
      ],
      "metadata": {
        "id": "a9fYIDWx6HgO",
        "outputId": "e76ea4b2-ac30-4543-cdde-33afe37b4049",
        "colab": {
          "base_uri": "https://localhost:8080/"
        }
      },
      "execution_count": 12,
      "outputs": [
        {
          "output_type": "stream",
          "name": "stdout",
          "text": [
            "Enter Year: 2100\n",
            "2100 is not Leap Year\n"
          ]
        }
      ]
    },
    {
      "cell_type": "code",
      "source": [],
      "metadata": {
        "id": "VuHNpQlIbwr3"
      },
      "execution_count": null,
      "outputs": []
    }
  ],
  "metadata": {
    "kernelspec": {
      "display_name": "Python 3",
      "language": "python",
      "name": "python3"
    },
    "language_info": {
      "codemirror_mode": {
        "name": "ipython",
        "version": 3
      },
      "file_extension": ".py",
      "mimetype": "text/x-python",
      "name": "python",
      "nbconvert_exporter": "python",
      "pygments_lexer": "ipython3",
      "version": "3.11.1"
    },
    "colab": {
      "provenance": [],
      "include_colab_link": true
    }
  },
  "nbformat": 4,
  "nbformat_minor": 0
}