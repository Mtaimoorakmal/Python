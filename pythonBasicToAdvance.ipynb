{
  "cells": [
    {
      "cell_type": "markdown",
      "metadata": {
        "id": "view-in-github",
        "colab_type": "text"
      },
      "source": [
        "<a href=\"https://colab.research.google.com/github/Mtaimoorakmal/Python/blob/main/pythonBasicToAdvance.ipynb\" target=\"_parent\"><img src=\"https://colab.research.google.com/assets/colab-badge.svg\" alt=\"Open In Colab\"/></a>"
      ]
    },
    {
      "cell_type": "markdown",
      "metadata": {
        "id": "DktUiJyrBOTB"
      },
      "source": [
        "#  Program 1"
      ]
    },
    {
      "cell_type": "code",
      "execution_count": null,
      "metadata": {
        "id": "cM2pixuRBOTN",
        "outputId": "2446586b-b68b-4ef9-cc61-39131170d354",
        "colab": {
          "base_uri": "https://localhost:8080/"
        }
      },
      "outputs": [
        {
          "output_type": "stream",
          "name": "stdout",
          "text": [
            "Hello World\n"
          ]
        }
      ],
      "source": [
        "print(\"Hello World\")"
      ]
    },
    {
      "cell_type": "markdown",
      "metadata": {
        "id": "kvRNWNzdBOTZ"
      },
      "source": [
        "# Program 2\n",
        "Wrtie a Python Program to do arithmatic Operations (+.-.*,/)"
      ]
    },
    {
      "cell_type": "code",
      "execution_count": null,
      "metadata": {
        "id": "54p8phhXBOTb",
        "outputId": "a6a0eeb8-d64c-4e27-82d7-aeae52937676"
      },
      "outputs": [
        {
          "name": "stdout",
          "output_type": "stream",
          "text": [
            "Sum : 7 + 2 = 9\n",
            "Subtraction : 7 - 2 = 5\n",
            "Multiplication : 7 * 2 = 14\n",
            "Divison : 7 / 2 = 3.5\n"
          ]
        }
      ],
      "source": [
        "# Take input of numbers to do Arithmatic Operations\n",
        "\n",
        "# num1 = float(input(\"Enter 1st Number: \"))\n",
        "# num2 = float(input(\"Enter 2nd Number: \"))\n",
        "\n",
        "\n",
        "num1 =7\n",
        "num2 =2\n",
        "\n",
        "#addition\n",
        "sum = num1 + num2\n",
        "\n",
        "#Subtraction\n",
        "sub = num1 -num2\n",
        "\n",
        "#multiplycation\n",
        "\n",
        "mul = num1*num2\n",
        "\n",
        "#division\n",
        "\n",
        "div = num1 /num2\n",
        "\n",
        "#print all arithmatic operations results\n",
        "\n",
        "print(f\"Sum : {num1} + {num2} = {sum}\")\n",
        "print(f\"Subtraction : {num1} - {num2} = {sub}\")\n",
        "print(f\"Multiplication : {num1} * {num2} = {mul}\")\n",
        "print(f\"Divison : {num1} / {num2} = {div}\")\n",
        "\n",
        "\n"
      ]
    },
    {
      "cell_type": "markdown",
      "metadata": {
        "id": "Pr8IWLC1BOTd"
      },
      "source": [
        "# Program 3\n",
        "write a Python Program to find the area of a Triangle"
      ]
    },
    {
      "cell_type": "code",
      "execution_count": null,
      "metadata": {
        "id": "hlMaRWmxBOTg",
        "outputId": "841df828-2e29-4f95-a439-c56930f402ac",
        "colab": {
          "base_uri": "https://localhost:8080/"
        }
      },
      "outputs": [
        {
          "output_type": "stream",
          "name": "stdout",
          "text": [
            "Enter the base of the Triangle: 4\n",
            "Enter the height of the Triangle: 5\n",
            "Area of the Triangle is : 10.0\n"
          ]
        }
      ],
      "source": [
        "# input Base and Height from the user\n",
        "base = float(input(\"Enter the base of the Triangle: \")) # 3 entred\n",
        "height = float(input(\"Enter the height of the Triangle: \")) # 4 entred\n",
        "\n",
        "\n",
        "#Calculate the area\n",
        "Area = 1/ 2 * base * height\n",
        "#Display the Area\n",
        "print(f\"Area of the Triangle is : {Area}\")"
      ]
    },
    {
      "cell_type": "markdown",
      "source": [
        "# Program 4\n",
        "\n",
        "write a Program to Swape Two Variables"
      ],
      "metadata": {
        "id": "2qnQ5NR4DDna"
      }
    },
    {
      "cell_type": "code",
      "execution_count": 2,
      "metadata": {
        "id": "GWRLFcvFBOTh",
        "colab": {
          "base_uri": "https://localhost:8080/"
        },
        "outputId": "d40340e3-8550-49d2-e8ca-eb44cc079889"
      },
      "outputs": [
        {
          "output_type": "stream",
          "name": "stdout",
          "text": [
            "Enter the value of First variable (a): 5\n",
            "Enter the value of Second variable (b): 9\n",
            "Before Swaping a = 5 and b = 9\n",
            "After Swaping a = 9 and b = 5\n"
          ]
        }
      ],
      "source": [
        "#input two Variables\n",
        "\n",
        "a = input(\"Enter the value of First variable (a): \")\n",
        "b = input(\"Enter the value of Second variable (b): \")\n",
        "\n",
        "#Display the Original Variables\n",
        "\n",
        "print(f\"Before Swaping a = {a} and b = {b}\")\n",
        "\n",
        "# now swape the values of both variables\n",
        "temp = a\n",
        "a = b\n",
        "b = temp\n",
        "\n",
        "#Display the Swapped Variables\n",
        "\n",
        "print(f\"After Swaping a = {a} and b = {b}\")\n"
      ]
    },
    {
      "cell_type": "markdown",
      "source": [
        "# Program 5\n",
        "Write a program to gnerate a random num"
      ],
      "metadata": {
        "id": "KZ8yahQSHU7G"
      }
    },
    {
      "cell_type": "code",
      "source": [
        "import random\n",
        "#creat a random num from 1 to 100 (both included)\n",
        "random_num = random.randint(1 , 100)\n",
        "#disoplay the random num\n",
        "print(f\"random num from 1 to 100 : {random_num}\")"
      ],
      "metadata": {
        "id": "F1cKYDWlDqal",
        "colab": {
          "base_uri": "https://localhost:8080/"
        },
        "outputId": "47a9b0b4-671f-4b98-a5e6-91117e3593bd"
      },
      "execution_count": 5,
      "outputs": [
        {
          "output_type": "stream",
          "name": "stdout",
          "text": [
            "random num from 1 to 100 : 65\n"
          ]
        }
      ]
    },
    {
      "cell_type": "markdown",
      "source": [
        "# Program 6\n",
        "\n",
        "Write a Python program to convert kilometers to miles.\n"
      ],
      "metadata": {
        "id": "FLjK2bAzISqt"
      }
    },
    {
      "cell_type": "code",
      "source": [
        "#take kilometers inout from the user\n",
        "\n",
        "kilometers = float(input(\"enter Kilometers : \"))\n",
        "\n",
        "#Conversion Factor 1 mile  = 1.64 kilometers\n",
        "# 1 kilometer   = 1/1.64 miles\n",
        "\n",
        "conversion_factor  = 1/1.64\n",
        "\n",
        "\n",
        "miles  = conversion_factor * kilometers\n",
        "\n",
        "# display the miles\n",
        "\n",
        "print(f\"{kilometers} Kilometers  = {miles} miles\")\n",
        "\n"
      ],
      "metadata": {
        "id": "uVRUfPR5FoIj",
        "colab": {
          "base_uri": "https://localhost:8080/"
        },
        "outputId": "81433afc-c3f9-47c0-d19d-28b650aa64d5"
      },
      "execution_count": 6,
      "outputs": [
        {
          "output_type": "stream",
          "name": "stdout",
          "text": [
            "enter Kilometers : 44\n",
            "44.0 Kilometers  = 26.829268292682926 miles\n"
          ]
        }
      ]
    },
    {
      "cell_type": "markdown",
      "source": [
        "# Program 7\n",
        "Write a Python program to convert miles to kilometers."
      ],
      "metadata": {
        "id": "dw9A4TzdJmj6"
      }
    },
    {
      "cell_type": "code",
      "source": [
        "#take miles inout from the user\n",
        "\n",
        "miles = float(input(\"enter Kilometers : \"))\n",
        "\n",
        "#Conversion Factor 1 mile  = 1.64 kilometers\n",
        "# 1 kilometer   = 1/1.64 miles\n",
        "\n",
        "conversion_factor  = 1.64\n",
        "\n",
        "\n",
        "kilometers  = conversion_factor * miles\n",
        "\n",
        "# display the miles\n",
        "\n",
        "print(f\"{miles} miles ={kilometers} Kilometers  \")"
      ],
      "metadata": {
        "colab": {
          "base_uri": "https://localhost:8080/"
        },
        "id": "CRbrda6GJjA-",
        "outputId": "f436b682-dabb-4e58-969b-acdebc266b59"
      },
      "execution_count": 7,
      "outputs": [
        {
          "output_type": "stream",
          "name": "stdout",
          "text": [
            "enter Kilometers : 66\n",
            "66.0 miles =108.24 Kilometers  \n"
          ]
        }
      ]
    },
    {
      "cell_type": "markdown",
      "source": [
        "# Program 8\n",
        "Write a Python program to convert Celsius to Fahrenheit."
      ],
      "metadata": {
        "id": "x55RbePNpSjz"
      }
    },
    {
      "cell_type": "code",
      "source": [
        "#get temperatiure from user\n",
        "Temp_Celsius = float(input(\"Enter the Temperture: \"))\n",
        "\n",
        "#covert temp from celsius to fahrenheit\n",
        "\n",
        "Temp_fahr = (Temp_Celsius * 9/5) + 32\n",
        "\n",
        "#dispaly the fahrenheit temperature:\n",
        "\n",
        "print(f\"{Temp_Celsius} degrees Celsius is equal to {Temp_fahr} degrees Fahrenheit.\")"
      ],
      "metadata": {
        "colab": {
          "base_uri": "https://localhost:8080/"
        },
        "id": "nA5_cphDKGDB",
        "outputId": "281cc3b8-2425-4720-d96e-2ed9201cf72d"
      },
      "execution_count": 6,
      "outputs": [
        {
          "output_type": "stream",
          "name": "stdout",
          "text": [
            "Enter the Temperture: 40\n",
            "40.0 degrees Celsius is equal to 104.0 degrees Fahrenheit.\n"
          ]
        }
      ]
    },
    {
      "cell_type": "markdown",
      "source": [
        "#Program 9\n",
        "Write a Python program to display calendar."
      ],
      "metadata": {
        "id": "vq4lc0IIrnnO"
      }
    },
    {
      "cell_type": "code",
      "source": [
        "import calendar\n",
        "\n",
        "year = int(input(\"Enter a Year: \"))\n",
        "\n",
        "month = int(input(\"Enter a Month: \"))\n",
        "\n",
        "cal_month  = calendar.month(year,month)\n",
        "\n",
        "\n",
        "print(cal_month)\n",
        "\n",
        "\n"
      ],
      "metadata": {
        "colab": {
          "base_uri": "https://localhost:8080/"
        },
        "id": "LfahzIeSqyvu",
        "outputId": "350e29ec-f09a-4ee1-c2d4-6bac71b2a710"
      },
      "execution_count": 15,
      "outputs": [
        {
          "output_type": "stream",
          "name": "stdout",
          "text": [
            "Enter a Year: 2023\n",
            "Enter a Month: 12\n",
            "   December 2023\n",
            "Mo Tu We Th Fr Sa Su\n",
            "             1  2  3\n",
            " 4  5  6  7  8  9 10\n",
            "11 12 13 14 15 16 17\n",
            "18 19 20 21 22 23 24\n",
            "25 26 27 28 29 30 31\n",
            "\n"
          ]
        }
      ]
    },
    {
      "cell_type": "markdown",
      "source": [
        "# Program 10\n",
        "\n",
        "write a program to swape two variables with temp variable"
      ],
      "metadata": {
        "id": "9gocBOIszsyE"
      }
    },
    {
      "cell_type": "code",
      "source": [
        "a = input(\"Enter the value of variable (a): \")\n",
        "b = input(\"Enter the value of variable (b): \")\n",
        "#display the variables\n",
        "print(f\"Before swaping\")\n",
        "print(f\" a = {a}\")\n",
        "print(f\" b = {b}\")\n",
        "#swape the variables\n",
        "a,b = b, a\n",
        "#display the variables\n",
        "print(f\"After swaping\")\n",
        "print(f\" a = {a}\")\n",
        "print(f\" b = {b}\")\n",
        "\n"
      ],
      "metadata": {
        "colab": {
          "base_uri": "https://localhost:8080/"
        },
        "id": "Exm7BGijsNRA",
        "outputId": "80d4152b-1e4f-44e9-9769-922520389e91"
      },
      "execution_count": 24,
      "outputs": [
        {
          "output_type": "stream",
          "name": "stdout",
          "text": [
            "Enter the value of variable (a): 7\n",
            "Enter the value of variable (b): 2\n",
            "Before swaping\n",
            " a = 7\n",
            " b = 2\n",
            "After swaping\n",
            " a = 2\n",
            " b = 7\n"
          ]
        }
      ]
    },
    {
      "cell_type": "markdown",
      "source": [
        "# Program 10A\n",
        "write a program to swape two variables with temp variable"
      ],
      "metadata": {
        "id": "Ozd85pCb0b8M"
      }
    },
    {
      "cell_type": "code",
      "source": [
        "# applicalbe on Intergers and floats only\n",
        "\n",
        "a = int(input(\"Enter the value of variable (a): \"))\n",
        "b = int(input(\"Enter the value of variable (b): \"))\n",
        "print(f\"Before swaping\")\n",
        "print(f\" a = {a}\")\n",
        "print(f\" b = {b}\")\n",
        "#swaping without temp variable\n",
        "a = a+b\n",
        "b = a-b\n",
        "a = a-b\n",
        "\n",
        "\n",
        "print(f\"After swaping\")\n",
        "print(f\" a = {a}\")\n",
        "print(f\" b = {b}\")\n",
        "\n"
      ],
      "metadata": {
        "colab": {
          "base_uri": "https://localhost:8080/"
        },
        "id": "JAcSZBiO0Vmp",
        "outputId": "eadf00ec-db38-4ec5-e2ba-6a2889bdb389"
      },
      "execution_count": 23,
      "outputs": [
        {
          "output_type": "stream",
          "name": "stdout",
          "text": [
            "Enter the value of variable (a): 6\n",
            "Enter the value of variable (b): 9\n",
            "Before swaping\n",
            " a = 6\n",
            " b = 9\n",
            "After swaping\n",
            " a = 9\n",
            " b = 6\n"
          ]
        }
      ]
    },
    {
      "cell_type": "markdown",
      "source": [
        "# Program 11\n",
        "Write a Python Program to Check if a Number is Positive, Negative or Zero."
      ],
      "metadata": {
        "id": "CPw_ZTKELVi4"
      }
    },
    {
      "cell_type": "code",
      "source": [
        "num = float(input(\"Enter a Num : \"))\n",
        "\n",
        "if num > 0 :\n",
        "  print(f\"{num}  is a positive Number\")\n",
        "elif num == 0:\n",
        "  print(f\"{0} is Zero, and it is Nutral\")\n",
        "else:\n",
        "  print(f\"{num} is  a nagative Number\")\n",
        "\n",
        ""
      ],
      "metadata": {
        "colab": {
          "base_uri": "https://localhost:8080/"
        },
        "id": "ZOOBDnEq0yua",
        "outputId": "f54d7ed3-7bd2-4d51-c296-c12df5d6541d"
      },
      "execution_count": 26,
      "outputs": [
        {
          "output_type": "stream",
          "name": "stdout",
          "text": [
            "Enter a Num : -3\n",
            "-3.0 is  a nagative Number\n"
          ]
        }
      ]
    },
    {
      "cell_type": "markdown",
      "source": [
        "# Program 12\n",
        "Write a Python Program to Check if a Number is Odd or Even."
      ],
      "metadata": {
        "id": "drnzFhTJMvGu"
      }
    },
    {
      "cell_type": "code",
      "source": [
        "num = int(input(\"Enter a Number: \"))\n",
        "\n",
        "if num % 2 == 0:\n",
        "          print(\"It is EVEN\")\n",
        "else:\n",
        "  print(\"it is ODD\")\n"
      ],
      "metadata": {
        "colab": {
          "base_uri": "https://localhost:8080/"
        },
        "id": "-f34RM3yMJQg",
        "outputId": "d643c324-833c-45bd-d654-df4766dd9c99"
      },
      "execution_count": 28,
      "outputs": [
        {
          "output_type": "stream",
          "name": "stdout",
          "text": [
            "Enter a Number: 77\n",
            "it is ODD\n"
          ]
        }
      ]
    },
    {
      "cell_type": "markdown",
      "source": [
        "# Program 13\n",
        "Write a Python Program to Check Leap Year."
      ],
      "metadata": {
        "id": "E_3BMNpMOBzX"
      }
    },
    {
      "cell_type": "code",
      "source": [
        "year = int(input(\"Enter a Year:  \"))\n",
        "\n",
        "# not divided by 100 means not a century year\n",
        "# year divided by 4 is a leap year\n",
        "if year % 4 ==0 and  year % 100 != 0: #(not a century year)\n",
        "  print(f\"{year} is a Leap Year\")\n",
        "\n",
        "  # divided by 100 means century year (ending with 00)\n",
        "# century year divided by 400 is leap year\n",
        "elif year % 100 ==0 and year % 400 ==0 : #(century year)\n",
        "  print(f\"{year} is a Leap Year\")\n",
        "else:\n",
        "  print(f\"{year} Not a Leap Year\")\n"
      ],
      "metadata": {
        "colab": {
          "base_uri": "https://localhost:8080/"
        },
        "id": "XMxNnQoFNx65",
        "outputId": "4367ea7b-1af4-4fe3-bfe8-3c9557271f77"
      },
      "execution_count": 52,
      "outputs": [
        {
          "output_type": "stream",
          "name": "stdout",
          "text": [
            "Enter a Year:  2100\n",
            "2100 Not a Leap Year\n"
          ]
        }
      ]
    },
    {
      "cell_type": "markdown",
      "source": [
        "# Program 14\n",
        "write a program to calculate Age"
      ],
      "metadata": {
        "id": "EgyYpewgT14Z"
      }
    },
    {
      "cell_type": "code",
      "source": [
        "#importing required modules\n",
        "from datetime import date\n",
        "#defining the function for subtracting\n",
        "def get_difference(startdate, enddate):\n",
        "    diff = enddate - startdate\n",
        "    return diff.days\n",
        "#initializing dates\n",
        "startdate = date(2021, 2, 5)\n",
        "enddate = date.today()\n",
        "#storing the result and calling the function\n",
        "Total_days = get_difference(startdate, enddate)\n",
        "days= (Total_days % 365) % 30\n",
        "months = int((Total_days % 365)/30)\n",
        "years = int(Total_days/365)\n",
        "#displaying the result\n",
        "print(f'Age is  {years} years , {months} Months, {days} Days ')"
      ],
      "metadata": {
        "colab": {
          "base_uri": "https://localhost:8080/"
        },
        "id": "S1s5AmjqO5AG",
        "outputId": "dc45a8b8-2925-42c6-e853-39f5d102fc99"
      },
      "execution_count": 46,
      "outputs": [
        {
          "output_type": "stream",
          "name": "stdout",
          "text": [
            "Age is  2 years , 10 Months, 5 Days \n"
          ]
        }
      ]
    },
    {
      "cell_type": "markdown",
      "source": [
        "# Program 15\n",
        "Write a Python Program to Check Prime Number.\n",
        "Prime Numbers:\n",
        "A prime number is a whole number that cannot be evenly divided by any other number\n",
        "except for 1 and itself. For example, 2, 3, 5, 7, 11, and 13 are prime numbers because they\n",
        "cannot be divided by any other positive integer except for 1 and their own value."
      ],
      "metadata": {
        "id": "5ykU6Parj9iu"
      }
    },
    {
      "cell_type": "code",
      "source": [
        "num =int(input(\"Enter a num: \"))\n",
        "\n",
        "# define a flag variable\n",
        "flag = False\n",
        "if num ==1:\n",
        "  print(f\"{num} is not  a prime Number\")\n",
        "# check for factors\n",
        "elif num > 1:\n",
        "  for i in range(2 , num):\n",
        "    if num % i ==0: # factor is found set the flag True\n",
        "      flag = True\n",
        "      break\n",
        "\n",
        "  if flag:\n",
        "    print(f\"{num} is not a prime Number\")\n",
        "  else:\n",
        "    print(f\"{num} is  a prime Number\")\n",
        "\n"
      ],
      "metadata": {
        "colab": {
          "base_uri": "https://localhost:8080/"
        },
        "id": "aFqi42xrP8qn",
        "outputId": "7375a17d-3bb0-4c6b-fb6c-d632e84338f2"
      },
      "execution_count": 65,
      "outputs": [
        {
          "output_type": "stream",
          "name": "stdout",
          "text": [
            "Enter a num: 5\n",
            "5 is  a prime Number\n"
          ]
        }
      ]
    },
    {
      "cell_type": "code",
      "source": [
        "1"
      ],
      "metadata": {
        "id": "xw-onGqdk2MN"
      },
      "execution_count": null,
      "outputs": []
    }
  ],
  "metadata": {
    "kernelspec": {
      "display_name": "Python 3",
      "language": "python",
      "name": "python3"
    },
    "language_info": {
      "codemirror_mode": {
        "name": "ipython",
        "version": 3
      },
      "file_extension": ".py",
      "mimetype": "text/x-python",
      "name": "python",
      "nbconvert_exporter": "python",
      "pygments_lexer": "ipython3",
      "version": "3.11.1"
    },
    "colab": {
      "provenance": [],
      "include_colab_link": true
    }
  },
  "nbformat": 4,
  "nbformat_minor": 0
}