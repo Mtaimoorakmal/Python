{
  "cells": [
    {
      "cell_type": "markdown",
      "metadata": {
        "id": "view-in-github",
        "colab_type": "text"
      },
      "source": [
        "<a href=\"https://colab.research.google.com/github/Mtaimoorakmal/Python/blob/main/pythonBasicToAdvance.ipynb\" target=\"_parent\"><img src=\"https://colab.research.google.com/assets/colab-badge.svg\" alt=\"Open In Colab\"/></a>"
      ]
    },
    {
      "cell_type": "markdown",
      "metadata": {
        "id": "DktUiJyrBOTB"
      },
      "source": [
        "#  Program 1"
      ]
    },
    {
      "cell_type": "code",
      "execution_count": null,
      "metadata": {
        "id": "cM2pixuRBOTN",
        "outputId": "2446586b-b68b-4ef9-cc61-39131170d354",
        "colab": {
          "base_uri": "https://localhost:8080/"
        }
      },
      "outputs": [
        {
          "output_type": "stream",
          "name": "stdout",
          "text": [
            "Hello World\n"
          ]
        }
      ],
      "source": [
        "print(\"Hello World\")"
      ]
    },
    {
      "cell_type": "markdown",
      "metadata": {
        "id": "kvRNWNzdBOTZ"
      },
      "source": [
        "# Program 2\n",
        "Wrtie a Python Program to do arithmatic Operations (+.-.*,/)"
      ]
    },
    {
      "cell_type": "code",
      "execution_count": null,
      "metadata": {
        "id": "54p8phhXBOTb",
        "outputId": "a6a0eeb8-d64c-4e27-82d7-aeae52937676"
      },
      "outputs": [
        {
          "name": "stdout",
          "output_type": "stream",
          "text": [
            "Sum : 7 + 2 = 9\n",
            "Subtraction : 7 - 2 = 5\n",
            "Multiplication : 7 * 2 = 14\n",
            "Divison : 7 / 2 = 3.5\n"
          ]
        }
      ],
      "source": [
        "# Take input of numbers to do Arithmatic Operations\n",
        "\n",
        "# num1 = float(input(\"Enter 1st Number: \"))\n",
        "# num2 = float(input(\"Enter 2nd Number: \"))\n",
        "\n",
        "\n",
        "num1 =7\n",
        "num2 =2\n",
        "\n",
        "#addition\n",
        "sum = num1 + num2\n",
        "\n",
        "#Subtraction\n",
        "sub = num1 -num2\n",
        "\n",
        "#multiplycation\n",
        "\n",
        "mul = num1*num2\n",
        "\n",
        "#division\n",
        "\n",
        "div = num1 /num2\n",
        "\n",
        "#print all arithmatic operations results\n",
        "\n",
        "print(f\"Sum : {num1} + {num2} = {sum}\")\n",
        "print(f\"Subtraction : {num1} - {num2} = {sub}\")\n",
        "print(f\"Multiplication : {num1} * {num2} = {mul}\")\n",
        "print(f\"Divison : {num1} / {num2} = {div}\")\n",
        "\n",
        "\n"
      ]
    },
    {
      "cell_type": "markdown",
      "metadata": {
        "id": "Pr8IWLC1BOTd"
      },
      "source": [
        "# Program 3\n",
        "write a Python Program to find the area of a Triangle"
      ]
    },
    {
      "cell_type": "code",
      "execution_count": null,
      "metadata": {
        "id": "hlMaRWmxBOTg",
        "outputId": "841df828-2e29-4f95-a439-c56930f402ac",
        "colab": {
          "base_uri": "https://localhost:8080/"
        }
      },
      "outputs": [
        {
          "output_type": "stream",
          "name": "stdout",
          "text": [
            "Enter the base of the Triangle: 4\n",
            "Enter the height of the Triangle: 5\n",
            "Area of the Triangle is : 10.0\n"
          ]
        }
      ],
      "source": [
        "# input Base and Height from the user\n",
        "base = float(input(\"Enter the base of the Triangle: \")) # 3 entred\n",
        "height = float(input(\"Enter the height of the Triangle: \")) # 4 entred\n",
        "\n",
        "\n",
        "#Calculate the area\n",
        "Area = 1/ 2 * base * height\n",
        "#Display the Area\n",
        "print(f\"Area of the Triangle is : {Area}\")"
      ]
    },
    {
      "cell_type": "markdown",
      "source": [
        "# Program 4\n",
        "\n",
        "write a Program to Swape Two Variables"
      ],
      "metadata": {
        "id": "2qnQ5NR4DDna"
      }
    },
    {
      "cell_type": "code",
      "execution_count": 2,
      "metadata": {
        "id": "GWRLFcvFBOTh",
        "colab": {
          "base_uri": "https://localhost:8080/"
        },
        "outputId": "d40340e3-8550-49d2-e8ca-eb44cc079889"
      },
      "outputs": [
        {
          "output_type": "stream",
          "name": "stdout",
          "text": [
            "Enter the value of First variable (a): 5\n",
            "Enter the value of Second variable (b): 9\n",
            "Before Swaping a = 5 and b = 9\n",
            "After Swaping a = 9 and b = 5\n"
          ]
        }
      ],
      "source": [
        "#input two Variables\n",
        "\n",
        "a = input(\"Enter the value of First variable (a): \")\n",
        "b = input(\"Enter the value of Second variable (b): \")\n",
        "\n",
        "#Display the Original Variables\n",
        "\n",
        "print(f\"Before Swaping a = {a} and b = {b}\")\n",
        "\n",
        "# now swape the values of both variables\n",
        "temp = a\n",
        "a = b\n",
        "b = temp\n",
        "\n",
        "#Display the Swapped Variables\n",
        "\n",
        "print(f\"After Swaping a = {a} and b = {b}\")\n"
      ]
    },
    {
      "cell_type": "markdown",
      "source": [
        "# Program 5\n",
        "Write a program to gnerate a random num"
      ],
      "metadata": {
        "id": "KZ8yahQSHU7G"
      }
    },
    {
      "cell_type": "code",
      "source": [
        "import random\n",
        "#creat a random num from 1 to 100 (both included)\n",
        "random_num = random.randint(1 , 100)\n",
        "#disoplay the random num\n",
        "print(f\"random num from 1 to 100 : {random_num}\")"
      ],
      "metadata": {
        "id": "F1cKYDWlDqal",
        "colab": {
          "base_uri": "https://localhost:8080/"
        },
        "outputId": "47a9b0b4-671f-4b98-a5e6-91117e3593bd"
      },
      "execution_count": 5,
      "outputs": [
        {
          "output_type": "stream",
          "name": "stdout",
          "text": [
            "random num from 1 to 100 : 65\n"
          ]
        }
      ]
    },
    {
      "cell_type": "markdown",
      "source": [
        "# Program 6\n",
        "\n",
        "Write a Python program to convert kilometers to miles.\n"
      ],
      "metadata": {
        "id": "FLjK2bAzISqt"
      }
    },
    {
      "cell_type": "code",
      "source": [
        "#take kilometers inout from the user\n",
        "\n",
        "kilometers = float(input(\"enter Kilometers : \"))\n",
        "\n",
        "#Conversion Factor 1 mile  = 1.64 kilometers\n",
        "# 1 kilometer   = 1/1.64 miles\n",
        "\n",
        "conversion_factor  = 1/1.64\n",
        "\n",
        "\n",
        "miles  = conversion_factor * kilometers\n",
        "\n",
        "# display the miles\n",
        "\n",
        "print(f\"{kilometers} Kilometers  = {miles} miles\")\n",
        "\n"
      ],
      "metadata": {
        "id": "uVRUfPR5FoIj",
        "colab": {
          "base_uri": "https://localhost:8080/"
        },
        "outputId": "81433afc-c3f9-47c0-d19d-28b650aa64d5"
      },
      "execution_count": 6,
      "outputs": [
        {
          "output_type": "stream",
          "name": "stdout",
          "text": [
            "enter Kilometers : 44\n",
            "44.0 Kilometers  = 26.829268292682926 miles\n"
          ]
        }
      ]
    },
    {
      "cell_type": "markdown",
      "source": [
        "# Program 7\n",
        "Write a Python program to convert miles to kilometers."
      ],
      "metadata": {
        "id": "dw9A4TzdJmj6"
      }
    },
    {
      "cell_type": "code",
      "source": [
        "#take miles inout from the user\n",
        "\n",
        "miles = float(input(\"enter Kilometers : \"))\n",
        "\n",
        "#Conversion Factor 1 mile  = 1.64 kilometers\n",
        "# 1 kilometer   = 1/1.64 miles\n",
        "\n",
        "conversion_factor  = 1.64\n",
        "\n",
        "\n",
        "kilometers  = conversion_factor * miles\n",
        "\n",
        "# display the miles\n",
        "\n",
        "print(f\"{miles} miles ={kilometers} Kilometers  \")"
      ],
      "metadata": {
        "colab": {
          "base_uri": "https://localhost:8080/"
        },
        "id": "CRbrda6GJjA-",
        "outputId": "f436b682-dabb-4e58-969b-acdebc266b59"
      },
      "execution_count": 7,
      "outputs": [
        {
          "output_type": "stream",
          "name": "stdout",
          "text": [
            "enter Kilometers : 66\n",
            "66.0 miles =108.24 Kilometers  \n"
          ]
        }
      ]
    },
    {
      "cell_type": "markdown",
      "source": [
        "# Program 8\n",
        "Write a Python program to convert Celsius to Fahrenheit."
      ],
      "metadata": {
        "id": "x55RbePNpSjz"
      }
    },
    {
      "cell_type": "code",
      "source": [
        "#get temperatiure from user\n",
        "Temp_Celsius = float(input(\"Enter the Temperture: \"))\n",
        "\n",
        "#covert temp from celsius to fahrenheit\n",
        "\n",
        "Temp_fahr = (Temp_Celsius * 9/5) + 32\n",
        "\n",
        "#dispaly the fahrenheit temperature:\n",
        "\n",
        "print(f\"{Temp_Celsius} degrees Celsius is equal to {Temp_fahr} degrees Fahrenheit.\")"
      ],
      "metadata": {
        "colab": {
          "base_uri": "https://localhost:8080/"
        },
        "id": "nA5_cphDKGDB",
        "outputId": "281cc3b8-2425-4720-d96e-2ed9201cf72d"
      },
      "execution_count": 6,
      "outputs": [
        {
          "output_type": "stream",
          "name": "stdout",
          "text": [
            "Enter the Temperture: 40\n",
            "40.0 degrees Celsius is equal to 104.0 degrees Fahrenheit.\n"
          ]
        }
      ]
    },
    {
      "cell_type": "code",
      "source": [],
      "metadata": {
        "id": "LfahzIeSqyvu"
      },
      "execution_count": null,
      "outputs": []
    }
  ],
  "metadata": {
    "kernelspec": {
      "display_name": "Python 3",
      "language": "python",
      "name": "python3"
    },
    "language_info": {
      "codemirror_mode": {
        "name": "ipython",
        "version": 3
      },
      "file_extension": ".py",
      "mimetype": "text/x-python",
      "name": "python",
      "nbconvert_exporter": "python",
      "pygments_lexer": "ipython3",
      "version": "3.11.1"
    },
    "colab": {
      "provenance": [],
      "include_colab_link": true
    }
  },
  "nbformat": 4,
  "nbformat_minor": 0
}